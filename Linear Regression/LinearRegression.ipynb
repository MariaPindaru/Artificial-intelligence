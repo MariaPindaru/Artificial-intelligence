{
 "cells": [
  {
   "cell_type": "code",
   "execution_count": 1,
   "metadata": {
    "ExecuteTime": {
     "end_time": "2021-03-30T19:32:43.938153Z",
     "start_time": "2021-03-30T19:32:43.012779Z"
    }
   },
   "outputs": [
    {
     "data": {
      "image/png": "[encoded data removed]",
      "text/plain": [
       "<Figure size 432x288 with 1 Axes>"
      ]
     },
     "metadata": {
      "needs_background": "light"
     },
     "output_type": "display_data"
    }
   ],
   "source": [
    "import numpy as np\n",
    "import matplotlib.pyplot as plt\n",
    "\n",
    "def normal_ecuation(x, y):\n",
    "    return np.dot(np.linalg.pinv(x), y)\n",
    "\n",
    "def h(x, w):\n",
    "    return np.dot(x, w)\n",
    "\n",
    "if __name__ == \"__main__\":\n",
    "    data = np.genfromtxt('salary.csv', delimiter = ',', names = True)\n",
    "    x = np.array([data[line][0] for line in range(len(data))])\n",
    "    y = np.array([data[line][1] for line in range(len(data))])\n",
    "\n",
    "    x_transpose = x.reshape((-1, 1))\n",
    "    y_transpose = y.reshape((-1, 1))\n",
    "    x_transpose = np.append(x_transpose, [[1] for _ in range(x_transpose.shape[0])], axis = 1)\n",
    "    w = normal_ecuation(x_transpose, y_transpose)\n",
    "    \n",
    "    plt.plot(x, y,'b*')\n",
    "    plt.plot(x, h(x_transpose,w), 'r-')\n",
    "    plt.xlabel('vechime')\n",
    "    plt.ylabel('salariu')\n",
    "    plt.show()"
   ]
  },
  {
   "cell_type": "code",
   "execution_count": 4,
   "metadata": {
    "ExecuteTime": {
     "end_time": "2021-03-30T19:35:32.581306Z",
     "start_time": "2021-03-30T19:35:31.097328Z"
    }
   },
   "outputs": [
    {
     "name": "stdout",
     "output_type": "stream",
     "text": [
      "Years of experience: 6\n",
      "[82491.9741274]\n"
     ]
    }
   ],
   "source": [
    "years = input(\"Years of experience: \")\n",
    "print(h([int(years), 1], w))"
   ]
  }
 ],
 "metadata": {
  "kernelspec": {
   "display_name": "Python 3",
   "language": "python",
   "name": "python3"
  },
  "language_info": {
   "codemirror_mode": {
    "name": "ipython",
    "version": 3
   },
   "file_extension": ".py",
   "mimetype": "text/x-python",
   "name": "python",
   "nbconvert_exporter": "python",
   "pygments_lexer": "ipython3",
   "version": "3.8.3"
  },
  "varInspector": {
   "cols": {
    "lenName": 16,
    "lenType": 16,
    "lenVar": 40
   },
   "kernels_config": {
    "python": {
     "delete_cmd_postfix": "",
     "delete_cmd_prefix": "del ",
     "library": "var_list.py",
     "varRefreshCmd": "print(var_dic_list())"
    },
    "r": {
     "delete_cmd_postfix": ") ",
     "delete_cmd_prefix": "rm(",
     "library": "var_list.r",
     "varRefreshCmd": "cat(var_dic_list()) "
    }
   },
   "types_to_exclude": [
    "module",
    "function",
    "builtin_function_or_method",
    "instance",
    "_Feature"
   ],
   "window_display": false
  }
 },
 "nbformat": 4,
 "nbformat_minor": 4
}
