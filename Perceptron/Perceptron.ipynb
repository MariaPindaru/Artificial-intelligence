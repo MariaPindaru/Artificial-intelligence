{
 "cells": [
  {
   "cell_type": "code",
   "execution_count": 1,
   "metadata": {
    "ExecuteTime": {
     "end_time": "2021-03-30T19:48:44.082300Z",
     "start_time": "2021-03-30T19:48:43.416975Z"
    }
   },
   "outputs": [],
   "source": [
    "import numpy as np\n",
    "import matplotlib.pyplot as plt\n",
    "\n",
    "np.random.seed(12)\n",
    "\n",
    "def f(x, a = 0.5, b = 0.2):\n",
    "    return a * x + b\n",
    "\n",
    "def generate_points(n = 100):\n",
    "    points = np.random.uniform(0, 1, size=(n, 2))\n",
    "    label = np.array([1 if f(points[line,0]) < points[line,1] else -1 for line in range(n)])\n",
    "    label = np.reshape(label, (-1, 1))\n",
    "    \n",
    "    dataset = np.append(points, label, axis = 1)\n",
    "\n",
    "    np.savetxt('point.txt', dataset, fmt='%f')"
   ]
  },
  {
   "cell_type": "code",
   "execution_count": 2,
   "metadata": {
    "ExecuteTime": {
     "end_time": "2021-03-30T19:48:47.103884Z",
     "start_time": "2021-03-30T19:48:46.735309Z"
    }
   },
   "outputs": [
    {
     "data": {
      "image/png": "[encoded data removed]",
      "text/plain": [
       "<Figure size 432x288 with 1 Axes>"
      ]
     },
     "metadata": {
      "needs_background": "light"
     },
     "output_type": "display_data"
    }
   ],
   "source": [
    "def perceptron():\n",
    "    points_and_label = np.genfromtxt('point.txt', delimiter=' ')\n",
    "    X = points_and_label[:, :-1]\n",
    "    X = np.append(np.ones((X.shape[0], 1)), X, axis=1)\n",
    "    label = points_and_label[:, -1]\n",
    "\n",
    "    w = np.zeros(X.shape[1])\n",
    "\n",
    "    prev_w = w.copy()\n",
    "    while True:\n",
    "        for i in range(X.shape[0]):\n",
    "            net = np.dot(X[i], w)\n",
    "            y = 1 if net >= 0 else -1\n",
    "            e = y - label[i]\n",
    "            w = w - X[i] * e\n",
    "        if np.all(w == prev_w):\n",
    "            break\n",
    "        prev_w = w.copy()\n",
    "\n",
    "    plt.plot(X[label==1, 1], X[label==1, 2], 'ro', color='red')\n",
    "    plt.plot(X[label==-1, 1], X[label==-1, 2], 'ro', color='green')\n",
    "\n",
    "    x1 = np.array([0, 1])\n",
    "    x2 = (-x1 * w[1] - w[0]) / w[2]\n",
    "\n",
    "    plt.plot(x1, x2, color='black')\n",
    "    plt.show()\n",
    "\n",
    "if __name__ == \"__main__\":\n",
    "    generate_points()\n",
    "    perceptron()"
   ]
  }
 ],
 "metadata": {
  "kernelspec": {
   "display_name": "Python 3",
   "language": "python",
   "name": "python3"
  },
  "language_info": {
   "codemirror_mode": {
    "name": "ipython",
    "version": 3
   },
   "file_extension": ".py",
   "mimetype": "text/x-python",
   "name": "python",
   "nbconvert_exporter": "python",
   "pygments_lexer": "ipython3",
   "version": "3.8.3"
  },
  "varInspector": {
   "cols": {
    "lenName": 16,
    "lenType": 16,
    "lenVar": 40
   },
   "kernels_config": {
    "python": {
     "delete_cmd_postfix": "",
     "delete_cmd_prefix": "del ",
     "library": "var_list.py",
     "varRefreshCmd": "print(var_dic_list())"
    },
    "r": {
     "delete_cmd_postfix": ") ",
     "delete_cmd_prefix": "rm(",
     "library": "var_list.r",
     "varRefreshCmd": "cat(var_dic_list()) "
    }
   },
   "types_to_exclude": [
    "module",
    "function",
    "builtin_function_or_method",
    "instance",
    "_Feature"
   ],
   "window_display": false
  }
 },
 "nbformat": 4,
 "nbformat_minor": 4
}
