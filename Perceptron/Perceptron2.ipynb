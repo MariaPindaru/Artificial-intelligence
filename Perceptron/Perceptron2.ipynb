{
 "cells": [
  {
   "cell_type": "markdown",
   "metadata": {},
   "source": [
    "# Perceptronul liniar"
   ]
  },
  {
   "cell_type": "code",
   "execution_count": 1,
   "metadata": {
    "ExecuteTime": {
     "end_time": "2021-04-10T09:47:43.176238Z",
     "start_time": "2021-04-10T09:47:42.135474Z"
    }
   },
   "outputs": [],
   "source": [
    "import numpy as np\n",
    "import matplotlib.pyplot as plt"
   ]
  },
  {
   "cell_type": "markdown",
   "metadata": {},
   "source": [
    "## 1. Reprezentarea perceptronului liniar\n",
    "\n",
    "Ne propunem în continuare să reprezentăm un astfel de discriminator liniar în 2D (două dimensiuni). Vom face următoarele lucruri:\n",
    "* definim funcţia $y=f(x)$, ca fiind ordonata $y$ în funcţie de abscisa $x$ (ca să putem reprezenta);\n",
    "* definim funcţia $g(x)=w^T x$ care calculează produsul scalar între $w$ şi $x$, unde $x$ este extins să aibă o componentă $1$ iar $w$ este extins cu coeficientul acela $b$ folosit la curs;\n",
    "* luăm puncte în plan;\n",
    "* clasificăm fiecare punct din plan în funcţie de partea dreptei în care se află;\n",
    "* desenăm dreapta.\n",
    "\n",
    "Considerăm forma ecuaţiei dreptei ca fiind:\n",
    "\n",
    "$$g(x) = ax + by + 1 = 0$$\n",
    "\n",
    "De aici putem exprima $y$ ca:\n",
    "\n",
    "$$y = f(x) = (-1 - ax) / b$$\n",
    "\n",
    "Pentru un $x$ dat, vom folosi comparaţia lui $g(x)$ cu zero ca să clasificăm acel sample $x$."
   ]
  },
  {
   "cell_type": "code",
   "execution_count": 2,
   "metadata": {
    "ExecuteTime": {
     "end_time": "2021-04-10T09:47:43.203107Z",
     "start_time": "2021-04-10T09:47:43.176238Z"
    }
   },
   "outputs": [],
   "source": [
    "# definim f(x, a, b) pentru calculul lui y asociat\n",
    "def f(x, a, b):\n",
    "    return (-1 - a * x) / b\n",
    "\n",
    "\n",
    "# definim g(x, y, a, b) pentru calculul poziţiei faţă de hiperplan (deasupra / dedesubt)\n",
    "def g(x, y, a, b):\n",
    "    return a * x + b * y + 1\n",
    "\n",
    "# alegem un exemplu de hiperplan 2D (dreaptă) care trece prin punctele (0, 2) şi (3, 0)\n",
    "# putem calcula astfel a şî b:\n",
    "a, b = (-1.0 / 3), (-1.0 / 2)\n",
    "\n",
    "# dreapta trebue să treacă prin cele două puncte date mai sus\n",
    "assert f(0, a, b) == 2.\n",
    "assert f(3, a, b) == 0.\n",
    "assert g(0, 2, a, b) == 0.\n",
    "assert g(3, 0, a, b) == 0."
   ]
  },
  {
   "cell_type": "code",
   "execution_count": 3,
   "metadata": {
    "ExecuteTime": {
     "end_time": "2021-04-10T09:47:43.222411Z",
     "start_time": "2021-04-10T09:47:43.204106Z"
    }
   },
   "outputs": [],
   "source": [
    "# porţiunea de plan pe care o reprezentăm este luată pentru x aparţine lui [-lim, lim] (limitele orizontale)\n",
    "lim = 10\n",
    "\n",
    "# numărul de puncte de fiecare fel\n",
    "n = 100\n",
    "\n",
    "# ne interesează, pentru reprezentare, limitele funcţiei [vmin, vmax] (limitele vertiale)\n",
    "vmin, vmax = f(-lim, a, b), f(lim, a, b)\n",
    "if vmin > vmax:\n",
    "    vmin, vmax = vmax, vmin\n",
    "\n",
    "# alegem random uniform, în acest spaţiu, 2n puncte\n",
    "u = 2 * lim * np.random.rand(2 * n) - lim\n",
    "v = (vmax - vmin) * np.random.rand(2 * n) + vmin\n",
    "\n",
    "# verificam ca punctele sunt luate în domeniu\n",
    "assert np.all(np.logical_and(u <= lim, u >= -lim))\n",
    "assert np.all(np.logical_and(v <= vmax, v >= vmin))"
   ]
  },
  {
   "cell_type": "code",
   "execution_count": 4,
   "metadata": {
    "ExecuteTime": {
     "end_time": "2021-04-10T09:47:43.642002Z",
     "start_time": "2021-04-10T09:47:43.226364Z"
    }
   },
   "outputs": [
    {
     "data": {
      "image/png": "[encoded data removed]",
      "text/plain": [
       "<Figure size 720x576 with 1 Axes>"
      ]
     },
     "metadata": {
      "needs_background": "light"
     },
     "output_type": "display_data"
    }
   ],
   "source": [
    "# alcătuim cele două clase de puncte\n",
    "h1 = [z for z in zip(u, v) if g(z[0], z[1], a, b) >= 0]\n",
    "h2 = [z for z in zip(u, v) if g(z[0], z[1], a, b) < 0]\n",
    "\n",
    "# generăm valorile (x, y) pentru reprezentarea hiperplanului (dreptei) de separaţie\n",
    "x = np.linspace(-lim, lim)\n",
    "y = f(x, a, b)\n",
    "\n",
    "# creăm o figură de tip subplot\n",
    "fig = plt.figure(num=1, figsize=(10, 8)) \n",
    "ax = fig.add_subplot(111)\n",
    "ax.set_title('Hiperplanul de separaţie este roşu')\n",
    "\n",
    "# reprezentăm dreapta\n",
    "ax.plot(x, y, 'r')\n",
    "\n",
    "# punctele din cele două clase\n",
    "ax.plot([i[0] for i in h1], [i[1] for i in h1], 'x' , color='blue')\n",
    "ax.plot([i[0] for i in h2], [i[1] for i in h2], 'o' , color='blue')\n",
    "\n",
    "# aranjăm sistemul de coordonate\n",
    "ax.spines['left'].set_position('zero')\n",
    "ax.spines['right'].set_color('none')\n",
    "ax.spines['bottom'].set_position('zero')\n",
    "ax.spines['top'].set_color('none')"
   ]
  },
  {
   "cell_type": "markdown",
   "metadata": {},
   "source": [
    "## 2. Antrenarea perceptronului liniar"
   ]
  },
  {
   "cell_type": "code",
   "execution_count": 5,
   "metadata": {
    "ExecuteTime": {
     "end_time": "2021-04-10T09:47:43.666749Z",
     "start_time": "2021-04-10T09:47:43.651298Z"
    }
   },
   "outputs": [],
   "source": [
    "# iniţializm aleator coeficienţii hiperplanului\n",
    "w = np.random.rand(3)\n",
    "\n",
    "# păstrăm o copie ca să reprezentăm dreapta iniţială aleator aleasă\n",
    "w_init = w.copy()\n",
    "\n",
    "assert w.shape == (3,)"
   ]
  },
  {
   "cell_type": "code",
   "execution_count": 6,
   "metadata": {
    "ExecuteTime": {
     "end_time": "2021-04-10T09:47:43.695810Z",
     "start_time": "2021-04-10T09:47:43.672280Z"
    }
   },
   "outputs": [],
   "source": [
    "# funcţia de calcul a clasei\n",
    "# h(net) = +1 dacă net e mai mare sau egal cu zero\n",
    "# h(net) = -1 dacă net e mai mic decât zero\n",
    "h = np.vectorize(lambda net : 1 if net >= 0 else -1) \n",
    "\n",
    "assert np.all(h(-np.random.randint(100, size=(10,))) == -1)\n",
    "assert np.all(h(np.random.randint(100, size=(10,))) == +1)"
   ]
  },
  {
   "cell_type": "code",
   "execution_count": 7,
   "metadata": {
    "ExecuteTime": {
     "end_time": "2021-04-10T09:47:43.719577Z",
     "start_time": "2021-04-10T09:47:43.701132Z"
    }
   },
   "outputs": [],
   "source": [
    "# formăm matricea X de dimensiune (m, 3), cu prima coloana de '1'-uri, \n",
    "# a doua coloana sunt abscisele stocate in u iar\n",
    "# a treia coloana ordonatele stocate in v\n",
    "m = len(u)\n",
    "x = np.array([[1] * m, u, v]).T\n",
    "\n",
    "assert len(v) == m\n",
    "\n",
    "assert x.shape == (m, 3)\n",
    "assert np.all(x[:, 0] == 1.)"
   ]
  },
  {
   "cell_type": "code",
   "execution_count": 8,
   "metadata": {
    "ExecuteTime": {
     "end_time": "2021-04-10T09:47:43.745228Z",
     "start_time": "2021-04-10T09:47:43.722930Z"
    }
   },
   "outputs": [],
   "source": [
    "# formam etichetele y pentru cele m sample-uri, pe baza functiilor g() si h() definite anterior\n",
    "y = h(g(u, v, a,  b))\n",
    "assert y.shape == (m,)\n",
    "assert np.abs(y).sum() == m"
   ]
  },
  {
   "cell_type": "code",
   "execution_count": 9,
   "metadata": {
    "ExecuteTime": {
     "end_time": "2021-04-10T09:47:43.917908Z",
     "start_time": "2021-04-10T09:47:43.749193Z"
    }
   },
   "outputs": [],
   "source": [
    "# learning rate\n",
    "alpha = 0.2\n",
    "epochs = 10\n",
    "\n",
    "# câteva iteraţii sunt suficiente\n",
    "# vom actualiza ponderile w de fiecare data, nu la sfarsitul buclei cum am facut anterior\n",
    "for epoch in range(epochs):\n",
    "    # pentru fiecare linie (pattern)\n",
    "    for i in range(m):\n",
    "        # vom 'trage' hiperplanul de separaţie în direcţia dorită\n",
    "        # doar atunci cand eticheta y si cea estimata y_hat nu coincid\n",
    "        c = 0 if y[i] * h(np.dot(w, x[i])) > 0 else y[i]\n",
    "        # c-ul va fi diferit de zero doar dacă punctul\n",
    "        # este de partea greşită a hiper planului\n",
    "        w += alpha * c * x[i]\n",
    "    \n",
    "# să nu uităm să scalăm parametrii hiperplanului, pentru reprezentare\n",
    "# am presupus forma 1 + ax + by = 0, ori, echivalent, w[0] + w[1] x + w[2] y = 0,\n",
    "#   deci implicit am presupus w[0] = 1\n",
    "w /= w[0]"
   ]
  },
  {
   "cell_type": "code",
   "execution_count": 10,
   "metadata": {
    "ExecuteTime": {
     "end_time": "2021-04-10T09:47:44.350243Z",
     "start_time": "2021-04-10T09:47:43.920742Z"
    }
   },
   "outputs": [
    {
     "data": {
      "image/png": "[encoded data removed]",
      "text/plain": [
       "<Figure size 720x576 with 1 Axes>"
      ]
     },
     "metadata": {
      "needs_background": "light"
     },
     "output_type": "display_data"
    }
   ],
   "source": [
    "def hyper_plot(lim, a, b, w_init, w, h1, h2):\n",
    "    fig = plt.figure(num=1, figsize=(10, 8)) \n",
    "    ax = fig.add_subplot(111)\n",
    "    ax.set_title('Separation hyperplane:\\n correct is blue, initial is dashed red and computed is plain red')\n",
    "\n",
    "    # reprezentăm hiperplanul de la care am pornit\n",
    "    x = np.linspace(-lim, lim)\n",
    "    y = f(x, a, b)\n",
    "    ax.plot(x, y)\n",
    "\n",
    "    # reprezentăm hiperplanul iniţializat random\n",
    "    xmin, xmax = (-1 - w_init[2] * vmin) / w_init[1], (-1 - w_init[2] * vmax) / w_init[1]\n",
    "    xmin, xmax = (xmin, xmax) if xmin < xmax else (xmax, xmin)\n",
    "    xmin, xmax = -lim if xmin < -lim else xmin, lim if xmax > lim else xmax\n",
    "    \n",
    "    x = np.linspace(xmin, xmax)\n",
    "    y = f(x, w_init[1], w_init[2])\n",
    "    ax.plot(x, y, linestyle='dashed', color='red')\n",
    "\n",
    "    # reprezentăm hiperplanul calculat de instruire\n",
    "    x = np.linspace(-lim, lim)\n",
    "    y = f(x, w[1], w[2])\n",
    "    ax.plot(x, y, color='red')\n",
    "\n",
    "    # cele două clase\n",
    "    ax.plot([i[0] for i in h1], [i[1] for i in h1], 'x' , color='blue')\n",
    "    ax.plot([i[0] for i in h2], [i[1] for i in h2], 'o' , color='blue')\n",
    "\n",
    "    # şi in fine axele de coordonate\n",
    "    ax.spines['left'].set_position('zero')\n",
    "    ax.spines['right'].set_color('none')\n",
    "    ax.spines['bottom'].set_position('zero')\n",
    "    ax.spines['top'].set_color('none')\n",
    "\n",
    "# dreapta de separaţie este foarte aproape (uneori coincide) cu cea teoretică\n",
    "hyper_plot(lim, a, b, w_init, w, h1, h2)"
   ]
  },
  {
   "cell_type": "markdown",
   "metadata": {},
   "source": [
    "# 3. Perceptron pentru caracterele \"0\" şi \"1\" reprezentate ca rastru de pixeli\n",
    "\n",
    "Trecem de la un spatiu cu 2 dimensiuni la un spatiu cu 35 de dimensiuni. De data aceasta, vrem ca un clasificator liniar (hiperplan) sa separe doua clase formate din cifre reprezentate sub forma de rastru de pixeli."
   ]
  },
  {
   "cell_type": "code",
   "execution_count": 11,
   "metadata": {
    "ExecuteTime": {
     "end_time": "2021-04-10T09:47:44.406975Z",
     "start_time": "2021-04-10T09:47:44.350243Z"
    },
    "code_folding": [
     4,
     11,
     18,
     25,
     32,
     39,
     46,
     53,
     60,
     67
    ]
   },
   "outputs": [],
   "source": [
    "# am luat dimensiunea rastrului de 7 x 5\n",
    "# de asemenea am 5 caractere de train din fiecare clasă,\n",
    "# respectiv 3 caractere de test per clasă\n",
    "train_set_x = np.array([\n",
    "    [0, 1, 1, 1, 0, \n",
    "     1, 0, 0, 0, 1,\n",
    "     1, 0, 0, 0, 1,\n",
    "     1, 0, 0, 0, 1,\n",
    "     1, 0, 0, 0, 1,\n",
    "     1, 0, 0, 0, 1,\n",
    "     0, 1, 1, 1, 0],\n",
    "    [0, 0, 1, 1, 0,\n",
    "     0, 1, 0, 0, 1,\n",
    "     0, 1, 0, 0, 1,\n",
    "     0, 1, 0, 0, 1,\n",
    "     0, 1, 0, 0, 1,\n",
    "     0, 1, 0, 0, 1,\n",
    "     0, 0, 1, 1, 0],\n",
    "    [0, 1, 1, 0, 0,\n",
    "     1, 0, 0, 1, 0,\n",
    "     1, 0, 0, 1, 0,\n",
    "     1, 0, 0, 1, 0,\n",
    "     1, 0, 0, 1, 0,\n",
    "     1, 0, 0, 1, 0,\n",
    "     0, 1, 1, 0, 0],\n",
    "    [0, 0, 0, 0, 0,\n",
    "     0, 1, 1, 1, 0,\n",
    "     1, 0, 0, 0, 1,\n",
    "     1, 0, 0, 0, 1,\n",
    "     1, 0, 0, 0, 1,\n",
    "     1, 0, 0, 0, 1,\n",
    "     0, 1, 1, 1, 0],\n",
    "    [0, 1, 1, 1, 0,\n",
    "     1, 0, 0, 0, 1,\n",
    "     1, 0, 0, 0, 1,\n",
    "     1, 0, 0, 0, 1,\n",
    "     1, 0, 0, 0, 1,\n",
    "     0, 1, 1, 1, 0,\n",
    "     0, 0, 0, 0, 0],\n",
    "    [0, 0, 1, 0, 0,\n",
    "     0, 1, 1, 0, 0,\n",
    "     1, 0, 1, 0, 0,\n",
    "     0, 0, 1, 0, 0,\n",
    "     0, 0, 1, 0, 0,\n",
    "     0, 0, 1, 0, 0,\n",
    "     1, 1, 1, 1, 1],\n",
    "    [0, 0, 1, 0, 0,\n",
    "     0, 1, 1, 0, 0,\n",
    "     0, 0, 1, 0, 0,\n",
    "     0, 0, 1, 0, 0,\n",
    "     0, 0, 1, 0, 0,\n",
    "     0, 0, 1, 0, 0,\n",
    "     0, 0, 1, 0, 0],\n",
    "    [0, 0, 1, 0, 0,\n",
    "     0, 1, 1, 0, 0,\n",
    "     0, 0, 1, 0, 0,\n",
    "     0, 0, 1, 0, 0,\n",
    "     0, 0, 1, 0, 0,\n",
    "     0, 0, 1, 0, 0,\n",
    "     0, 1, 1, 1, 0],\n",
    "    [0, 0, 1, 0, 0,\n",
    "     0, 0, 1, 0, 0,\n",
    "     0, 0, 1, 0, 0,\n",
    "     0, 0, 1, 0, 0,\n",
    "     0, 0, 1, 0, 0,\n",
    "     0, 0, 1, 0, 0,\n",
    "     0, 0, 1, 0, 0],\n",
    "    [0, 0, 1, 0, 0,\n",
    "     0, 1, 1, 0, 0,\n",
    "     1, 0, 1, 0, 0,\n",
    "     0, 0, 1, 0, 0,\n",
    "     0, 0, 1, 0, 0,\n",
    "     0, 0, 1, 0, 0,\n",
    "     0, 0, 1, 0, 0]\n",
    "])\n",
    "train_set_y = [-1, -1, -1, -1, -1, 1, 1, 1, 1, 1]"
   ]
  },
  {
   "cell_type": "code",
   "execution_count": 12,
   "metadata": {
    "ExecuteTime": {
     "end_time": "2021-04-10T09:47:46.259803Z",
     "start_time": "2021-04-10T09:47:44.416666Z"
    }
   },
   "outputs": [
    {
     "data": {
      "image/png": "[encoded data removed]",
      "text/plain": [
       "<Figure size 720x576 with 5 Axes>"
      ]
     },
     "metadata": {
      "needs_background": "light"
     },
     "output_type": "display_data"
    },
    {
     "data": {
      "image/png": "[encoded data removed]",
      "text/plain": [
       "<Figure size 720x576 with 5 Axes>"
      ]
     },
     "metadata": {
      "needs_background": "light"
     },
     "output_type": "display_data"
    }
   ],
   "source": [
    "# afişăm setul definit\n",
    "fig = plt.figure(num=1, figsize=(10, 8)) \n",
    "for i in range(0, 5):\n",
    "    ax = fig.add_subplot(450 + i + 1)\n",
    "    ax.imshow(255 * train_set_x[i].reshape(7, 5), cmap='gray')\n",
    "    ax.set_title(f'eticheta {train_set_y[i]}')\n",
    "    \n",
    "fig = plt.figure(num=2, figsize=(10, 8)) \n",
    "for i in range(5, 10):\n",
    "    ax = fig.add_subplot(450 + i - 4)\n",
    "    ax.imshow(255 * train_set_x[i].reshape(7, 5), cmap='gray')\n",
    "    ax.set_title(f'eticheta {train_set_y[i]}')"
   ]
  },
  {
   "cell_type": "code",
   "execution_count": 13,
   "metadata": {
    "ExecuteTime": {
     "end_time": "2021-04-10T09:47:46.310491Z",
     "start_time": "2021-04-10T09:47:46.264958Z"
    },
    "code_folding": [
     2,
     9,
     16,
     23,
     30,
     37
    ]
   },
   "outputs": [],
   "source": [
    "# setul de test are câte un pixel lipsă\n",
    "test_set_x = np.array([\n",
    "    [0, 1, 1, 1, 0, \n",
    "     1, 0, 0, 0, 1,\n",
    "     1, 0, 0, 0, 1,\n",
    "     1, 0, 0, 0, 0,\n",
    "     1, 0, 0, 0, 1,\n",
    "     1, 0, 0, 0, 1,\n",
    "     0, 1, 1, 1, 0],\n",
    "    [0, 0, 1, 1, 0,\n",
    "     0, 1, 0, 0, 1,\n",
    "     0, 1, 0, 0, 1,\n",
    "     0, 1, 0, 0, 1,\n",
    "     0, 1, 0, 0, 1,\n",
    "     0, 0, 0, 0, 1,\n",
    "     0, 0, 1, 1, 0],\n",
    "    [0, 1, 1, 0, 0,\n",
    "     1, 0, 0, 1, 0,\n",
    "     1, 0, 0, 1, 0,\n",
    "     1, 0, 0, 1, 0,\n",
    "     1, 0, 0, 1, 0,\n",
    "     1, 0, 0, 1, 0,\n",
    "     0, 0, 1, 0, 0],\n",
    "    [0, 0, 1, 0, 0,\n",
    "     0, 1, 1, 0, 0,\n",
    "     1, 0, 0, 0, 0,\n",
    "     0, 0, 1, 0, 0,\n",
    "     0, 0, 1, 0, 0,\n",
    "     0, 0, 1, 0, 0,\n",
    "     1, 1, 1, 1, 1],\n",
    "    [0, 0, 1, 0, 0,\n",
    "     0, 0, 1, 0, 0,\n",
    "     0, 0, 1, 0, 0,\n",
    "     0, 0, 1, 0, 0,\n",
    "     0, 0, 1, 0, 0,\n",
    "     0, 0, 1, 0, 0,\n",
    "     0, 0, 1, 0, 0],\n",
    "    [0, 0, 1, 0, 0,\n",
    "     0, 1, 1, 0, 0,\n",
    "     0, 0, 1, 0, 0,\n",
    "     0, 0, 1, 0, 0,\n",
    "     0, 0, 1, 0, 0,\n",
    "     0, 0, 1, 0, 0,\n",
    "     0, 0, 1, 1, 0],\n",
    "])\n",
    "test_set_y = [-1, -1, -1, 1, 1, 1]"
   ]
  },
  {
   "cell_type": "code",
   "execution_count": 14,
   "metadata": {
    "ExecuteTime": {
     "end_time": "2021-04-10T09:47:47.397823Z",
     "start_time": "2021-04-10T09:47:46.322362Z"
    }
   },
   "outputs": [
    {
     "data": {
      "image/png": "[encoded data removed]",
      "text/plain": [
       "<Figure size 720x576 with 3 Axes>"
      ]
     },
     "metadata": {
      "needs_background": "light"
     },
     "output_type": "display_data"
    },
    {
     "data": {
      "image/png": "[encoded data removed]",
      "text/plain": [
       "<Figure size 720x576 with 3 Axes>"
      ]
     },
     "metadata": {
      "needs_background": "light"
     },
     "output_type": "display_data"
    }
   ],
   "source": [
    "fig = plt.figure(num=3, figsize=(10, 8)) \n",
    "for i in range(0, 3):\n",
    "    ax = fig.add_subplot(430 + i + 1)\n",
    "    ax.imshow(255 * test_set_x[i].reshape(7, 5), cmap='gray')\n",
    "    ax.set_title(f'eticheta {test_set_y[i]}')\n",
    "    \n",
    "fig = plt.figure(num=4, figsize=(10, 8)) \n",
    "for i in range(3, 6):\n",
    "    ax = fig.add_subplot(430 + i - 2)\n",
    "    ax.imshow(255 * test_set_x[i].reshape(7, 5), cmap='gray')\n",
    "    ax.set_title(f'eticheta {test_set_y[i]}')"
   ]
  },
  {
   "cell_type": "code",
   "execution_count": 15,
   "metadata": {
    "ExecuteTime": {
     "end_time": "2021-04-10T09:47:47.420100Z",
     "start_time": "2021-04-10T09:47:47.399219Z"
    }
   },
   "outputs": [],
   "source": [
    "# funcţia de activare este o simplă treaptă (-1, 1) în jurul lui 0\n",
    "h = np.vectorize(lambda net : 1 if net >= 0 else -1) \n",
    "\n",
    "assert np.all(h(-np.random.randint(100, size=(10,))) == -1)\n",
    "assert np.all(h(np.random.randint(100, size=(10,))) == +1)"
   ]
  },
  {
   "cell_type": "code",
   "execution_count": 16,
   "metadata": {
    "ExecuteTime": {
     "end_time": "2021-04-10T09:47:47.444673Z",
     "start_time": "2021-04-10T09:47:47.427583Z"
    }
   },
   "outputs": [],
   "source": [
    "# iniţializăm matricea extinsă X folosind train_set_x\n",
    "x = train_set_x\n",
    "x = np.concatenate((np.ones((train_set_x.shape[0],1)), x), axis=1)\n",
    "\n",
    "assert x.shape == (10, 36)\n",
    "assert np.all(x[:, 0] == 1)"
   ]
  },
  {
   "cell_type": "code",
   "execution_count": 17,
   "metadata": {
    "ExecuteTime": {
     "end_time": "2021-04-10T09:47:47.470169Z",
     "start_time": "2021-04-10T09:47:47.448385Z"
    }
   },
   "outputs": [],
   "source": [
    "# iniţializarea aleatoare a ponderilor\n",
    "w = np.random.rand(x.shape[1])\n",
    "\n",
    "alpha = 0.3\n",
    "epochs = 10\n",
    "# câteva iteraţii sunt suficiente\n",
    "for epoch in range(epochs):\n",
    "    for i in range(x.shape[0]):\n",
    "        c = 0 if train_set_y[i] * h(np.dot(w, x[i])) > 0 else train_set_y[i]\n",
    "        w += alpha * c * x[i]"
   ]
  },
  {
   "cell_type": "code",
   "execution_count": 18,
   "metadata": {
    "ExecuteTime": {
     "end_time": "2021-04-10T09:47:47.511332Z",
     "start_time": "2021-04-10T09:47:47.478474Z"
    }
   },
   "outputs": [
    {
     "name": "stdout",
     "output_type": "stream",
     "text": [
      "train:  [-1 -1 -1 -1 -1  1  1  1  1  1]  vs.  [-1, -1, -1, -1, -1, 1, 1, 1, 1, 1]  diffs:  0\n",
      "test:  [-1 -1 -1  1  1  1]  vs.  [-1, -1, -1, 1, 1, 1]  diffs:  0\n"
     ]
    }
   ],
   "source": [
    "# tipărim numărul de clasificări greşite pentru setul de instruire\n",
    "print(\"train: \", h(np.dot(x, w)), \" vs. \", train_set_y, \" diffs: \", sum(train_set_y != h(np.dot(x, w))))\n",
    "\n",
    "# cream matricea extinsa X pentru setul de test\n",
    "test_set_x_ext = test_set_x\n",
    "test_set_x_ext = np.concatenate((np.ones((test_set_x.shape[0],1)), test_set_x_ext), axis=1)\n",
    "\n",
    "# tipărim numărul de clasificări greşite şi pentru setul de test\n",
    "print(\"test: \", h(np.dot(test_set_x_ext, w)), \" vs. \", test_set_y, \n",
    "      \" diffs: \", sum(h(np.dot(test_set_x_ext, w)) != test_set_y))\n",
    "\n",
    "# foarte rar apare o diferenţă"
   ]
  },
  {
   "cell_type": "code",
   "execution_count": null,
   "metadata": {},
   "outputs": [],
   "source": []
  }
 ],
 "metadata": {
  "kernelspec": {
   "display_name": "Python 3",
   "language": "python",
   "name": "python3"
  },
  "language_info": {
   "codemirror_mode": {
    "name": "ipython",
    "version": 3
   },
   "file_extension": ".py",
   "mimetype": "text/x-python",
   "name": "python",
   "nbconvert_exporter": "python",
   "pygments_lexer": "ipython3",
   "version": "3.8.3"
  },
  "toc": {
   "base_numbering": 1,
   "nav_menu": {},
   "number_sections": true,
   "sideBar": true,
   "skip_h1_title": false,
   "title_cell": "Table of Contents",
   "title_sidebar": "Contents",
   "toc_cell": false,
   "toc_position": {},
   "toc_section_display": true,
   "toc_window_display": false
  },
  "varInspector": {
   "cols": {
    "lenName": 16,
    "lenType": 16,
    "lenVar": 40
   },
   "kernels_config": {
    "python": {
     "delete_cmd_postfix": "",
     "delete_cmd_prefix": "del ",
     "library": "var_list.py",
     "varRefreshCmd": "print(var_dic_list())"
    },
    "r": {
     "delete_cmd_postfix": ") ",
     "delete_cmd_prefix": "rm(",
     "library": "var_list.r",
     "varRefreshCmd": "cat(var_dic_list()) "
    }
   },
   "types_to_exclude": [
    "module",
    "function",
    "builtin_function_or_method",
    "instance",
    "_Feature"
   ],
   "window_display": false
  }
 },
 "nbformat": 4,
 "nbformat_minor": 2
}
