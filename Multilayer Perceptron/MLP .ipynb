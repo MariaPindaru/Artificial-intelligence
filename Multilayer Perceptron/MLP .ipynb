{
 "cells": [
  {
   "cell_type": "markdown",
   "metadata": {},
   "source": [
    "# Multilayer Perceptron"
   ]
  },
  {
   "cell_type": "code",
   "execution_count": 1,
   "metadata": {
    "ExecuteTime": {
     "end_time": "2021-05-07T12:51:53.388779Z",
     "start_time": "2021-05-07T12:51:52.587585Z"
    }
   },
   "outputs": [],
   "source": [
    "import pickle\n",
    "import numpy as np\n",
    "import matplotlib.pyplot as plt"
   ]
  },
  {
   "cell_type": "code",
   "execution_count": 2,
   "metadata": {
    "ExecuteTime": {
     "end_time": "2021-05-07T12:51:54.545788Z",
     "start_time": "2021-05-07T12:51:54.538040Z"
    }
   },
   "outputs": [],
   "source": [
    "np.random.seed(10)\n",
    "\n",
    "epochs = 200\n",
    "learning_rate = 0.5\n",
    "hidden_layer_size = 32\n",
    "num_classes = 10"
   ]
  },
  {
   "cell_type": "code",
   "execution_count": 3,
   "metadata": {
    "ExecuteTime": {
     "end_time": "2021-05-07T12:51:57.027197Z",
     "start_time": "2021-05-07T12:51:57.015971Z"
    }
   },
   "outputs": [],
   "source": [
    "def load_dataset():\n",
    "    pickle_file = 'mnist.pkl'\n",
    "    with open(pickle_file, 'rb') as f:\n",
    "        train_set, valid_set, test_set = pickle.load(f, encoding='latin1')\n",
    "\n",
    "    return train_set[0], train_set[1], test_set[0], test_set[1]"
   ]
  },
  {
   "cell_type": "code",
   "execution_count": 4,
   "metadata": {
    "ExecuteTime": {
     "end_time": "2021-05-07T12:51:58.251437Z",
     "start_time": "2021-05-07T12:51:58.235427Z"
    }
   },
   "outputs": [],
   "source": [
    "def relu(value):\n",
    "    return np.maximum(0, value)\n",
    "\n",
    "def relu_deriv(x):\n",
    "    x[x <= 0] = 0\n",
    "    x[x > 0] = 1\n",
    "    return x\n",
    "\n",
    "def softmax(x):\n",
    "    exp = np.exp(x)\n",
    "    return exp / np.sum(exp, axis=1, keepdims=True)\n",
    "\n",
    "def softmax_deriv(z, i, j):\n",
    "    return softmax(z,i) * (1 - softmax(z, i)) if i == j else - softmax(z, i) * softmax(z, j)\n",
    "\n",
    "def one_hot(val, classes):\n",
    "    one_hot = np.zeros(classes)\n",
    "    one_hot[val] = 1\n",
    "    return one_hot\n",
    "\n",
    "def cross_entropy_loss(y_pred, y_true):\n",
    "    logprobs = y_true * np.log(y_pred)\n",
    "    cost = - (1.0 / y_true.shape[0]) * np.sum(logprobs)\n",
    "    return cost"
   ]
  },
  {
   "cell_type": "code",
   "execution_count": 5,
   "metadata": {
    "ExecuteTime": {
     "end_time": "2021-05-07T12:52:01.336625Z",
     "start_time": "2021-05-07T12:52:01.320045Z"
    }
   },
   "outputs": [],
   "source": [
    "def show_samples(x_set, y_set):\n",
    "    x_set_initial = np.dot(x_set, 255)\n",
    "    size = x_set.shape[0]\n",
    "\n",
    "    fig, ax = plt.subplots(size // 4, 4, figsize=(20, 10))\n",
    "    for k in range(size):\n",
    "        row, col = k // 4, k % 4\n",
    "\n",
    "        # Make those columns into a array of 8-bits pixels\n",
    "        # The pixel intensity values are integers from 0 to 255\n",
    "        pixels = np.array(x_set_initial[k], dtype='uint8')\n",
    "\n",
    "        # Reshape the array into 28 x 28 array (2-dimensional array)\n",
    "        n = int(np.sqrt(len(pixels)))\n",
    "        assert n ** 2 == len(pixels)\n",
    "        pixels = pixels.reshape(n, n)\n",
    "        ax[row, col].imshow(pixels, cmap='gray')\n",
    "        ax[row, col].set_title('Eticheta {label}'.format(label=y_set[k]))\n",
    "        ax[row, col].axis('off')\n",
    "\n",
    "    plt.show()"
   ]
  },
  {
   "cell_type": "code",
   "execution_count": 6,
   "metadata": {
    "ExecuteTime": {
     "end_time": "2021-05-07T12:52:05.600031Z",
     "start_time": "2021-05-07T12:52:02.818556Z"
    }
   },
   "outputs": [
    {
     "data": {
      "image/png": "[encoded data removed]",
      "text/plain": [
       "<Figure size 1440x720 with 16 Axes>"
      ]
     },
     "metadata": {
      "needs_background": "light"
     },
     "output_type": "display_data"
    }
   ],
   "source": [
    "train_set_x, train_set_y, test_set_x, test_set_y  = load_dataset()\n",
    "y = np.array([one_hot(train_set_y[i], num_classes) for i in range(train_set_y.size)])\n",
    "show_samples(train_set_x[:16], train_set_y[:16])"
   ]
  },
  {
   "cell_type": "markdown",
   "metadata": {},
   "source": [
    "# Forward propagation\n",
    "\n",
    "$z_1 = x W_1^T + b_1$\n",
    "\n",
    "$a_1 = relu(z_1)$\n",
    "\n",
    "$z_2 = a_1 W_2^T + b_2$\n",
    "\n",
    "$a_2 = softmax(z_2)$"
   ]
  },
  {
   "cell_type": "code",
   "execution_count": 7,
   "metadata": {
    "ExecuteTime": {
     "end_time": "2021-05-07T12:52:07.804064Z",
     "start_time": "2021-05-07T12:52:07.795816Z"
    }
   },
   "outputs": [],
   "source": [
    "def forward_prop(set_x, W1, b1, W2, b2):\n",
    "    \n",
    "    z1 = np.matmul(set_x, W1.T) + b1\n",
    "    a1 = relu(z1)\n",
    "    z2 = np.matmul(a1, W2.T) + b2\n",
    "    a2 = softmax(z2)\n",
    "    \n",
    "    cache = (set_x, a1, a2)\n",
    "    return a2, cache"
   ]
  },
  {
   "cell_type": "markdown",
   "metadata": {
    "ExecuteTime": {
     "end_time": "2021-05-07T12:33:28.210619Z",
     "start_time": "2021-05-07T12:33:28.189840Z"
    }
   },
   "source": [
    "# Back propagation\n",
    "\n",
    "$\\frac{\\partial H}{\\partial z^{(2)}} = \\delta^{(2)} = \\frac{1}{n} (a^{(2)} - \\hat y) $\n",
    "\n",
    "$\\frac{\\partial H}{\\partial W^{(2)}} =  (\\delta^{(2)})^T a_1$\n",
    "\n",
    "$\\frac{\\partial H}{\\partial b^{(2)}} = \\sum^n_{i = 1} \\delta^{(2)}_i$\n",
    "\n",
    "$\\frac{\\partial H}{\\partial z^{(1)}} = \\delta^{(1)} = \\delta^{(2)}  W^{(2)}  relu(z^{(1)})' $\n",
    "\n",
    "$\\frac{\\partial H}{\\partial W^{(1)}} = (\\delta^{(1)})^T x$\n",
    "\n",
    "$\\frac{\\partial H}{\\partial b^{(1)}} = \\sum^n_{i = 1} \\delta^{(1)}_i$"
   ]
  },
  {
   "cell_type": "code",
   "execution_count": 8,
   "metadata": {
    "ExecuteTime": {
     "end_time": "2021-05-07T12:52:09.814721Z",
     "start_time": "2021-05-07T12:52:09.800147Z"
    }
   },
   "outputs": [],
   "source": [
    "def compute_grads(cache, y):\n",
    "    x, a1, a2 = cache\n",
    "    \n",
    "    delta2 = (1.0 / train_set_x.shape[0]) * (a2 - y)\n",
    "    dw2 = np.matmul(delta2.T, a1)\n",
    "    db2 = np.sum(delta2, axis=0, keepdims=True)\n",
    "    \n",
    "    delta1 = np.matmul(delta2, W2) * relu_deriv(a1)\n",
    "\n",
    "    dw1 = np.matmul(delta1.T, x)\n",
    "    db1 = np.sum(delta1, axis=0, keepdims=True)\n",
    "    \n",
    "    return dw2, db2, dw1, db1"
   ]
  },
  {
   "cell_type": "code",
   "execution_count": 9,
   "metadata": {
    "ExecuteTime": {
     "end_time": "2021-05-07T12:52:11.889914Z",
     "start_time": "2021-05-07T12:52:11.882409Z"
    }
   },
   "outputs": [],
   "source": [
    "def back_prop(cache, y, W2, b2, W1, b1):\n",
    "    grads = compute_grads(cache, y)\n",
    "\n",
    "    W2 = W2 - learning_rate * grads[0]\n",
    "    b2 = b2 - learning_rate * grads[1]\n",
    "    W1 = W1 - learning_rate * grads[2]\n",
    "    b1 = b1 - learning_rate * grads[3]\n",
    "    \n",
    "    return W2, b2, W1, b1"
   ]
  },
  {
   "cell_type": "code",
   "execution_count": 10,
   "metadata": {
    "ExecuteTime": {
     "end_time": "2021-05-07T12:52:13.660728Z",
     "start_time": "2021-05-07T12:52:13.646005Z"
    }
   },
   "outputs": [],
   "source": [
    "def accuracy(y_pred, y_true):\n",
    "    y_pred = np.argmax(y_pred, axis=1)\n",
    "    accuracy = ((y_pred == y_true).sum() * 100) / y_true.shape[0]\n",
    "    return accuracy"
   ]
  },
  {
   "cell_type": "markdown",
   "metadata": {},
   "source": [
    "# Train"
   ]
  },
  {
   "cell_type": "markdown",
   "metadata": {
    "ExecuteTime": {
     "end_time": "2021-05-07T13:01:13.109682Z",
     "start_time": "2021-05-07T13:01:13.098510Z"
    }
   },
   "source": [
    "## Stochastic Gradient Descent"
   ]
  },
  {
   "cell_type": "code",
   "execution_count": 11,
   "metadata": {
    "ExecuteTime": {
     "end_time": "2021-05-07T12:52:16.118993Z",
     "start_time": "2021-05-07T12:52:16.112095Z"
    }
   },
   "outputs": [],
   "source": [
    "W1 = np.random.normal(0, 0.001, (hidden_layer_size, train_set_x.shape[1]))\n",
    "b1 = np.zeros(hidden_layer_size)\n",
    "W2 = np.random.normal(0, 0.001, (num_classes, hidden_layer_size))\n",
    "b2 = np.zeros(num_classes)"
   ]
  },
  {
   "cell_type": "code",
   "execution_count": 46,
   "metadata": {
    "ExecuteTime": {
     "end_time": "2021-05-07T12:29:04.185695Z",
     "start_time": "2021-05-07T12:25:01.137012Z"
    },
    "scrolled": false
   },
   "outputs": [
    {
     "name": "stdout",
     "output_type": "stream",
     "text": [
      "Loss at epoch 1: 2.3025902277787993\n",
      "Loss at epoch 2: 2.3024251322996294\n",
      "Loss at epoch 3: 2.302275072915765\n",
      "Loss at epoch 4: 2.3021363409720594\n",
      "Loss at epoch 5: 2.3020053519108883\n",
      "Loss at epoch 6: 2.3018780037936417\n",
      "Loss at epoch 7: 2.3017489839741088\n",
      "Loss at epoch 8: 2.3016109904183235\n",
      "Loss at epoch 9: 2.3014532954361355\n",
      "Loss at epoch 10: 2.3012598600648078\n",
      "Loss at epoch 11: 2.3010064488522928\n",
      "Loss at epoch 12: 2.3006553324246064\n",
      "Loss at epoch 13: 2.300147600559356\n",
      "Loss at epoch 14: 2.299391335015809\n",
      "Loss at epoch 15: 2.2982430718131783\n",
      "Loss at epoch 16: 2.296479825335382\n",
      "Loss at epoch 17: 2.2937589551447726\n",
      "Loss at epoch 18: 2.289565397787065\n",
      "Loss at epoch 19: 2.283153040972933\n",
      "Loss at epoch 20: 2.2735094676399394\n",
      "Loss at epoch 21: 2.259410584511397\n",
      "Loss at epoch 22: 2.239672215984713\n",
      "Loss at epoch 23: 2.213652090369051\n",
      "Loss at epoch 24: 2.1816817373223327\n",
      "Loss at epoch 25: 2.1447459416475243\n",
      "Loss at epoch 26: 2.103085440528422\n",
      "Loss at epoch 27: 2.0551986514979594\n",
      "Loss at epoch 28: 1.9983258873365344\n",
      "Loss at epoch 29: 1.9297173249087176\n",
      "Loss at epoch 30: 1.8480280519542882\n",
      "Loss at epoch 31: 1.754215911908301\n",
      "Loss at epoch 32: 1.651702070339259\n",
      "Loss at epoch 33: 1.5458655344580223\n",
      "Loss at epoch 34: 1.4430716922794025\n",
      "Loss at epoch 35: 1.3487238369308228\n",
      "Loss at epoch 36: 1.265368886481066\n",
      "Loss at epoch 37: 1.192961031042713\n",
      "Loss at epoch 38: 1.1302602653761975\n",
      "Loss at epoch 39: 1.0756870170949522\n",
      "Loss at epoch 40: 1.0277477772649146\n",
      "Loss at epoch 41: 0.9851896607568292\n",
      "Loss at epoch 42: 0.9470361719850373\n",
      "Loss at epoch 43: 0.9125346348253154\n",
      "Loss at epoch 44: 0.8811584473793915\n",
      "Loss at epoch 45: 0.8527119600331958\n",
      "Loss at epoch 46: 0.8282971641881787\n",
      "Loss at epoch 47: 0.8153964177306088\n",
      "Loss at epoch 48: 0.8589481556663955\n",
      "Loss at epoch 49: 1.1273927997195132\n",
      "Loss at epoch 50: 1.9530049175086401\n",
      "Loss at epoch 51: 1.9862739868607475\n",
      "Loss at epoch 52: 1.314476377748948\n",
      "Loss at epoch 53: 0.991292099864468\n",
      "Loss at epoch 54: 0.8307376454456531\n",
      "Loss at epoch 55: 0.7579411752190263\n",
      "Loss at epoch 56: 0.7144801242032243\n",
      "Loss at epoch 57: 0.6834499958233107\n",
      "Loss at epoch 58: 0.660605484413167\n",
      "Loss at epoch 59: 0.6431388516197037\n",
      "Loss at epoch 60: 0.6322515654860894\n",
      "Loss at epoch 61: 0.6275817134389517\n",
      "Loss at epoch 62: 0.6417375487270915\n",
      "Loss at epoch 63: 0.6667702457992898\n",
      "Loss at epoch 64: 0.7497959773286749\n",
      "Loss at epoch 65: 0.7913551786503965\n",
      "Loss at epoch 66: 0.8296930478445718\n",
      "Loss at epoch 67: 0.7343397635528947\n",
      "Loss at epoch 68: 0.6660871482791484\n",
      "Loss at epoch 69: 0.5997303507483457\n",
      "Loss at epoch 70: 0.5747531823202252\n",
      "Loss at epoch 71: 0.5524939812428773\n",
      "Loss at epoch 72: 0.5414506862449445\n",
      "Loss at epoch 73: 0.5289675066173583\n",
      "Loss at epoch 74: 0.5220531959644492\n",
      "Loss at epoch 75: 0.5134993050388479\n",
      "Loss at epoch 76: 0.509035331085209\n",
      "Loss at epoch 77: 0.502665608641093\n",
      "Loss at epoch 78: 0.500364645583253\n",
      "Loss at epoch 79: 0.49548210414530847\n",
      "Loss at epoch 80: 0.4957744985819779\n",
      "Loss at epoch 81: 0.49194075254193487\n",
      "Loss at epoch 82: 0.49590014636665347\n",
      "Loss at epoch 83: 0.4926045669381734\n",
      "Loss at epoch 84: 0.5016372947275538\n",
      "Loss at epoch 85: 0.498227742488286\n",
      "Loss at epoch 86: 0.512680861123153\n",
      "Loss at epoch 87: 0.5093046627462294\n",
      "Loss at epoch 88: 0.5260152598290484\n",
      "Loss at epoch 89: 0.5252004428651191\n",
      "Loss at epoch 90: 0.5372384512202075\n",
      "Loss at epoch 91: 0.537549113641703\n",
      "Loss at epoch 92: 0.5328000377169456\n",
      "Loss at epoch 93: 0.5218622169016598\n",
      "Loss at epoch 94: 0.5010028912042621\n",
      "Loss at epoch 95: 0.4825394415501205\n",
      "Loss at epoch 96: 0.46641502864992757\n",
      "Loss at epoch 97: 0.45422594673375044\n",
      "Loss at epoch 98: 0.44632106166499314\n",
      "Loss at epoch 99: 0.4406318173795204\n",
      "Loss at epoch 100: 0.43586619045031894\n",
      "Loss at epoch 101: 0.43404434286372223\n",
      "Loss at epoch 102: 0.42958794998494854\n",
      "Loss at epoch 103: 0.4301415462168946\n",
      "Loss at epoch 104: 0.42495353944989217\n",
      "Loss at epoch 105: 0.42704369824437843\n",
      "Loss at epoch 106: 0.42088779630396933\n",
      "Loss at epoch 107: 0.4239348462056795\n",
      "Loss at epoch 108: 0.4168282096487999\n",
      "Loss at epoch 109: 0.42020128131491646\n",
      "Loss at epoch 110: 0.41238775619293827\n",
      "Loss at epoch 111: 0.4154483389254514\n",
      "Loss at epoch 112: 0.4073618867229702\n",
      "Loss at epoch 113: 0.40969003535267573\n",
      "Loss at epoch 114: 0.4018538241051384\n",
      "Loss at epoch 115: 0.40325374082201576\n",
      "Loss at epoch 116: 0.3960666985479285\n",
      "Loss at epoch 117: 0.39659147200585715\n",
      "Loss at epoch 118: 0.39025540042902623\n",
      "Loss at epoch 119: 0.3900783573797805\n",
      "Loss at epoch 120: 0.38467579817527914\n",
      "Loss at epoch 121: 0.3840590243045687\n",
      "Loss at epoch 122: 0.37954759155471723\n",
      "Loss at epoch 123: 0.37870243557346167\n",
      "Loss at epoch 124: 0.37495735458403895\n",
      "Loss at epoch 125: 0.3740149501477244\n",
      "Loss at epoch 126: 0.370870589611076\n",
      "Loss at epoch 127: 0.3698898474291083\n",
      "Loss at epoch 128: 0.36719897396359225\n",
      "Loss at epoch 129: 0.36622343555079817\n",
      "Loss at epoch 130: 0.36388659797565587\n",
      "Loss at epoch 131: 0.3629386245353399\n",
      "Loss at epoch 132: 0.36086875269770174\n",
      "Loss at epoch 133: 0.3599550540378556\n",
      "Loss at epoch 134: 0.3580802461602947\n",
      "Loss at epoch 135: 0.35720033023962994\n",
      "Loss at epoch 136: 0.35547688657927956\n",
      "Loss at epoch 137: 0.3546253869964658\n",
      "Loss at epoch 138: 0.3530185919278425\n",
      "Loss at epoch 139: 0.3522045382052037\n",
      "Loss at epoch 140: 0.3506982307979935\n",
      "Loss at epoch 141: 0.3499220898440674\n",
      "Loss at epoch 142: 0.34850017190310945\n",
      "Loss at epoch 143: 0.3477385477510733\n",
      "Loss at epoch 144: 0.3463758646130821\n",
      "Loss at epoch 145: 0.34564629660239415\n",
      "Loss at epoch 146: 0.34433906213512516\n",
      "Loss at epoch 147: 0.3436366198572119\n",
      "Loss at epoch 148: 0.34238173488805584\n",
      "Loss at epoch 149: 0.3417041804104159\n",
      "Loss at epoch 150: 0.34048778385928485\n",
      "Loss at epoch 151: 0.33983210470062203\n",
      "Loss at epoch 152: 0.3386507056410041\n",
      "Loss at epoch 153: 0.33801572404803865\n",
      "Loss at epoch 154: 0.33686907276493805\n",
      "Loss at epoch 155: 0.336257456733761\n",
      "Loss at epoch 156: 0.3351371127551776\n",
      "Loss at epoch 157: 0.33454513817642423\n",
      "Loss at epoch 158: 0.3334417120988616\n",
      "Loss at epoch 159: 0.3328552479249918\n",
      "Loss at epoch 160: 0.3317759291942285\n",
      "Loss at epoch 161: 0.3311999547117117\n",
      "Loss at epoch 162: 0.33012578726497116\n",
      "Loss at epoch 163: 0.3295565520103124\n",
      "Loss at epoch 164: 0.3284943797819885\n",
      "Loss at epoch 165: 0.3279221512120407\n",
      "Loss at epoch 166: 0.32687797494649135\n",
      "Loss at epoch 167: 0.3263063335740808\n",
      "Loss at epoch 168: 0.3252774262421578\n",
      "Loss at epoch 169: 0.32470177654021254\n",
      "Loss at epoch 170: 0.3236884561235852\n",
      "Loss at epoch 171: 0.323108738909055\n",
      "Loss at epoch 172: 0.3221183131240899\n",
      "Loss at epoch 173: 0.3215279063380648\n",
      "Loss at epoch 174: 0.3205533511456252\n",
      "Loss at epoch 175: 0.3199574396150858\n",
      "Loss at epoch 176: 0.3190069928706875\n",
      "Loss at epoch 177: 0.31840375261120885\n",
      "Loss at epoch 178: 0.3174793145679538\n",
      "Loss at epoch 179: 0.31686987038455533\n",
      "Loss at epoch 180: 0.3159631896438188\n",
      "Loss at epoch 181: 0.3153531628703513\n",
      "Loss at epoch 182: 0.3144682798154034\n",
      "Loss at epoch 183: 0.3138418804265256\n",
      "Loss at epoch 184: 0.3129870877789533\n",
      "Loss at epoch 185: 0.31235379736302465\n",
      "Loss at epoch 186: 0.31153114499601214\n",
      "Loss at epoch 187: 0.31089876474589095\n",
      "Loss at epoch 188: 0.31009644582323886\n",
      "Loss at epoch 189: 0.3094709050235707\n",
      "Loss at epoch 190: 0.3086978011222765\n",
      "Loss at epoch 191: 0.3080810028119896\n",
      "Loss at epoch 192: 0.3073325974463609\n",
      "Loss at epoch 193: 0.30672093488776064\n",
      "Loss at epoch 194: 0.3059977869903353\n",
      "Loss at epoch 195: 0.30539054124294407\n",
      "Loss at epoch 196: 0.3046864634724737\n",
      "Loss at epoch 197: 0.30408370378609934\n",
      "Loss at epoch 198: 0.30339917042710746\n",
      "Loss at epoch 199: 0.3028046663621791\n",
      "Loss at epoch 200: 0.3021380314628911\n"
     ]
    }
   ],
   "source": [
    "for epoch in range(epochs):\n",
    "\n",
    "    out, cache = forward_prop(train_set_x, W1, b1, W2, b2)\n",
    "\n",
    "    loss = cross_entropy_loss(out, y)\n",
    "\n",
    "    W2, b2, W1, b1 = back_prop(cache, y, W2, b2, W1, b1)\n",
    "\n",
    "    print(\"Loss at epoch {}: {}\".format(epoch + 1, loss))"
   ]
  },
  {
   "cell_type": "code",
   "execution_count": 47,
   "metadata": {
    "ExecuteTime": {
     "end_time": "2021-05-07T12:29:13.541117Z",
     "start_time": "2021-05-07T12:29:13.412434Z"
    }
   },
   "outputs": [],
   "source": [
    "pred, _ = forward_prop(test_set_x,  W1, b1, W2, b2)"
   ]
  },
  {
   "cell_type": "code",
   "execution_count": 48,
   "metadata": {
    "ExecuteTime": {
     "end_time": "2021-05-07T12:29:15.498839Z",
     "start_time": "2021-05-07T12:29:15.484265Z"
    }
   },
   "outputs": [
    {
     "name": "stdout",
     "output_type": "stream",
     "text": [
      "Test accuracy: 91.9%\n"
     ]
    }
   ],
   "source": [
    "test_accuracy = accuracy(pred, test_set_y)\n",
    "print(\"Test accuracy: {}%\".format(test_accuracy))"
   ]
  },
  {
   "cell_type": "markdown",
   "metadata": {},
   "source": [
    "## Batch Gradient Descent"
   ]
  },
  {
   "cell_type": "code",
   "execution_count": 12,
   "metadata": {
    "ExecuteTime": {
     "end_time": "2021-05-07T12:52:22.862145Z",
     "start_time": "2021-05-07T12:52:22.850385Z"
    }
   },
   "outputs": [],
   "source": [
    "W1 = np.random.normal(0, 0.001, (hidden_layer_size, train_set_x.shape[1]))\n",
    "b1 = np.zeros(hidden_layer_size)\n",
    "W2 = np.random.normal(0, 0.001, (num_classes, hidden_layer_size))\n",
    "b2 = np.zeros(num_classes)\n",
    "\n",
    "batch_size = 20"
   ]
  },
  {
   "cell_type": "code",
   "execution_count": 14,
   "metadata": {
    "ExecuteTime": {
     "end_time": "2021-05-07T13:01:02.027584Z",
     "start_time": "2021-05-07T12:53:18.932467Z"
    }
   },
   "outputs": [
    {
     "name": "stdout",
     "output_type": "stream",
     "text": [
      "Train loss at epoch 1: 2.3021153915245605\n",
      "Train loss at epoch 2: 2.3019672460723855\n",
      "Train loss at epoch 3: 2.3018111841595736\n",
      "Train loss at epoch 4: 2.3016357992124186\n",
      "Train loss at epoch 5: 2.3014239257461457\n",
      "Train loss at epoch 6: 2.301147392315042\n",
      "Train loss at epoch 7: 2.300763563054119\n",
      "Train loss at epoch 8: 2.3002026114008527\n",
      "Train loss at epoch 9: 2.2993521345075045\n",
      "Train loss at epoch 10: 2.298029784568725\n",
      "Train loss at epoch 11: 2.295941617597507\n",
      "Train loss at epoch 12: 2.292617410537498\n",
      "Train loss at epoch 13: 2.2873239660939855\n",
      "Train loss at epoch 14: 2.2789604150882417\n",
      "Train loss at epoch 15: 2.265989103042924\n",
      "Train loss at epoch 16: 2.2465089692469373\n",
      "Train loss at epoch 17: 2.2185874512945563\n",
      "Train loss at epoch 18: 2.180677763980134\n",
      "Train loss at epoch 19: 2.131811852144464\n",
      "Train loss at epoch 20: 2.070958090082755\n",
      "Train loss at epoch 21: 1.997128936836197\n",
      "Train loss at epoch 22: 1.9105586842265136\n",
      "Train loss at epoch 23: 1.8138270379603862\n",
      "Train loss at epoch 24: 1.7115646227082923\n",
      "Train loss at epoch 25: 1.6087981548894421\n",
      "Train loss at epoch 26: 1.509640027203735\n",
      "Train loss at epoch 27: 1.4169188565053996\n",
      "Train loss at epoch 28: 1.3323632042037536\n",
      "Train loss at epoch 29: 1.2567542517787098\n",
      "Train loss at epoch 30: 1.1900037836787556\n",
      "Train loss at epoch 31: 1.131265573340456\n",
      "Train loss at epoch 32: 1.0794565141028913\n",
      "Train loss at epoch 33: 1.0334268067740726\n",
      "Train loss at epoch 34: 0.9921981952219033\n",
      "Train loss at epoch 35: 0.9549283461959546\n",
      "Train loss at epoch 36: 0.9209887620861751\n",
      "Train loss at epoch 37: 0.8897459438924628\n",
      "Train loss at epoch 38: 0.8608457071380184\n",
      "Train loss at epoch 39: 0.8340234468924351\n",
      "Train loss at epoch 40: 0.8090094509277036\n",
      "Train loss at epoch 41: 0.7856857399367444\n",
      "Train loss at epoch 42: 0.7637480499005476\n",
      "Train loss at epoch 43: 0.7432794166543456\n",
      "Train loss at epoch 44: 0.724035246982023\n",
      "Train loss at epoch 45: 0.7060492103803585\n",
      "Train loss at epoch 46: 0.6892011274856089\n",
      "Train loss at epoch 47: 0.6734077263285873\n",
      "Train loss at epoch 48: 0.658640080636143\n",
      "Train loss at epoch 49: 0.6447975403738769\n",
      "Train loss at epoch 50: 0.6318078095105039\n",
      "Train loss at epoch 51: 0.6196490887279744\n",
      "Train loss at epoch 52: 0.6081763876494998\n",
      "Train loss at epoch 53: 0.5973774481599918\n",
      "Train loss at epoch 54: 0.5872979449737333\n",
      "Train loss at epoch 55: 0.5777242580653119\n",
      "Train loss at epoch 56: 0.5686706985507355\n",
      "Train loss at epoch 57: 0.560126980497411\n",
      "Train loss at epoch 58: 0.552056464675007\n",
      "Train loss at epoch 59: 0.5443858661097696\n",
      "Train loss at epoch 60: 0.537154767971092\n",
      "Train loss at epoch 61: 0.5302089647952581\n",
      "Train loss at epoch 62: 0.5236391888928824\n",
      "Train loss at epoch 63: 0.5173835821222708\n",
      "Train loss at epoch 64: 0.5113946238812209\n",
      "Train loss at epoch 65: 0.5057354552798238\n",
      "Train loss at epoch 66: 0.5002766436547726\n",
      "Train loss at epoch 67: 0.49506618128923024\n",
      "Train loss at epoch 68: 0.49008833777106325\n",
      "Train loss at epoch 69: 0.4853112003123283\n",
      "Train loss at epoch 70: 0.4807640151253781\n",
      "Train loss at epoch 71: 0.4764466601698693\n",
      "Train loss at epoch 72: 0.472214847222793\n",
      "Train loss at epoch 73: 0.46817606628573\n",
      "Train loss at epoch 74: 0.4643495883570052\n",
      "Train loss at epoch 75: 0.46061401726873485\n",
      "Train loss at epoch 76: 0.4570204430671153\n",
      "Train loss at epoch 77: 0.4536091165653076\n",
      "Train loss at epoch 78: 0.4502740074967081\n",
      "Train loss at epoch 79: 0.4470770340616633\n",
      "Train loss at epoch 80: 0.4440186495779612\n",
      "Train loss at epoch 81: 0.4410505610492608\n",
      "Train loss at epoch 82: 0.4381921789810352\n",
      "Train loss at epoch 83: 0.43539623213131945\n",
      "Train loss at epoch 84: 0.4327161432307644\n",
      "Train loss at epoch 85: 0.4301736675405439\n",
      "Train loss at epoch 86: 0.42764601713556705\n",
      "Train loss at epoch 87: 0.4252060640208767\n",
      "Train loss at epoch 88: 0.4228226016919837\n",
      "Train loss at epoch 89: 0.42052192729266524\n",
      "Train loss at epoch 90: 0.4182963516510429\n",
      "Train loss at epoch 91: 0.4161331020604606\n",
      "Train loss at epoch 92: 0.4140442516692245\n",
      "Train loss at epoch 93: 0.41197973302875673\n",
      "Train loss at epoch 94: 0.4100003905202782\n",
      "Train loss at epoch 95: 0.4080510613434023\n",
      "Train loss at epoch 96: 0.40615249604211295\n",
      "Train loss at epoch 97: 0.40430881562215576\n",
      "Train loss at epoch 98: 0.40253570274630907\n",
      "Train loss at epoch 99: 0.4007584540892079\n",
      "Train loss at epoch 100: 0.39903904159282483\n",
      "Train loss at epoch 101: 0.39736013375706875\n",
      "Train loss at epoch 102: 0.3957170446069835\n",
      "Train loss at epoch 103: 0.39412056262523654\n",
      "Train loss at epoch 104: 0.39256429411095906\n",
      "Train loss at epoch 105: 0.391019245573631\n",
      "Train loss at epoch 106: 0.3895067656722947\n",
      "Train loss at epoch 107: 0.38802456526404233\n",
      "Train loss at epoch 108: 0.38657639698184637\n",
      "Train loss at epoch 109: 0.3851642297387904\n",
      "Train loss at epoch 110: 0.383774956802453\n",
      "Train loss at epoch 111: 0.38240017188438896\n",
      "Train loss at epoch 112: 0.3810960758916493\n",
      "Train loss at epoch 113: 0.37976059509353866\n",
      "Train loss at epoch 114: 0.3784641119074383\n",
      "Train loss at epoch 115: 0.3771871594608651\n",
      "Train loss at epoch 116: 0.37592930679121517\n",
      "Train loss at epoch 117: 0.3747046506736701\n",
      "Train loss at epoch 118: 0.37350917167847136\n",
      "Train loss at epoch 119: 0.3723311834885563\n",
      "Train loss at epoch 120: 0.3711583478250702\n",
      "Train loss at epoch 121: 0.370024093383396\n",
      "Train loss at epoch 122: 0.36890582225971624\n",
      "Train loss at epoch 123: 0.3677976034093382\n",
      "Train loss at epoch 124: 0.3666681370423292\n",
      "Train loss at epoch 125: 0.36558342669543975\n",
      "Train loss at epoch 126: 0.3645226081561751\n",
      "Train loss at epoch 127: 0.3634905574411323\n",
      "Train loss at epoch 128: 0.3624398962506652\n",
      "Train loss at epoch 129: 0.36142526523424956\n",
      "Train loss at epoch 130: 0.36043767555887896\n",
      "Train loss at epoch 131: 0.35943455312377454\n",
      "Train loss at epoch 132: 0.35849417172486925\n",
      "Train loss at epoch 133: 0.3575022388620116\n",
      "Train loss at epoch 134: 0.356539662096675\n",
      "Train loss at epoch 135: 0.35560539064461305\n",
      "Train loss at epoch 136: 0.3546735677706098\n",
      "Train loss at epoch 137: 0.35377604299667936\n",
      "Train loss at epoch 138: 0.35286198951395187\n",
      "Train loss at epoch 139: 0.3519907861839202\n",
      "Train loss at epoch 140: 0.35114366362692556\n",
      "Train loss at epoch 141: 0.35024392612364647\n",
      "Train loss at epoch 142: 0.3493924626044967\n",
      "Train loss at epoch 143: 0.3485325265939682\n",
      "Train loss at epoch 144: 0.34768913080817476\n",
      "Train loss at epoch 145: 0.3468758892593385\n",
      "Train loss at epoch 146: 0.3460449233840014\n",
      "Train loss at epoch 147: 0.3452392068428907\n",
      "Train loss at epoch 148: 0.344436321856781\n",
      "Train loss at epoch 149: 0.34372370807574926\n",
      "Train loss at epoch 150: 0.3428679528321786\n",
      "Train loss at epoch 151: 0.342131111622425\n",
      "Train loss at epoch 152: 0.3413396425452028\n",
      "Train loss at epoch 153: 0.3405805242902911\n",
      "Train loss at epoch 154: 0.33983701648032516\n",
      "Train loss at epoch 155: 0.3390987765316396\n",
      "Train loss at epoch 156: 0.3383791972113839\n",
      "Train loss at epoch 157: 0.33763976059136347\n",
      "Train loss at epoch 158: 0.3369414068600241\n",
      "Train loss at epoch 159: 0.33622319842468595\n",
      "Train loss at epoch 160: 0.3355117561183419\n",
      "Train loss at epoch 161: 0.3348152459196209\n",
      "Train loss at epoch 162: 0.3341338685930415\n",
      "Train loss at epoch 163: 0.33344715734511066\n",
      "Train loss at epoch 164: 0.33281445758813477\n",
      "Train loss at epoch 165: 0.33211043658317085\n",
      "Train loss at epoch 166: 0.33142801033190034\n",
      "Train loss at epoch 167: 0.3307764150441388\n",
      "Train loss at epoch 168: 0.330124501530022\n",
      "Train loss at epoch 169: 0.32949992075955964\n",
      "Train loss at epoch 170: 0.3288378165480927\n",
      "Train loss at epoch 171: 0.32820220557212126\n",
      "Train loss at epoch 172: 0.3275858159519346\n",
      "Train loss at epoch 173: 0.32694751026794827\n",
      "Train loss at epoch 174: 0.32632435551642874\n",
      "Train loss at epoch 175: 0.3257192527827316\n",
      "Train loss at epoch 176: 0.3250954884457522\n",
      "Train loss at epoch 177: 0.3245055256873684\n",
      "Train loss at epoch 178: 0.32391131162244063\n",
      "Train loss at epoch 179: 0.3233017094517014\n",
      "Train loss at epoch 180: 0.3227251111655241\n",
      "Train loss at epoch 181: 0.3221110765145615\n",
      "Train loss at epoch 182: 0.3215595490228249\n",
      "Train loss at epoch 183: 0.32094260731889995\n",
      "Train loss at epoch 184: 0.3203817411708414\n",
      "Train loss at epoch 185: 0.3197973000478266\n",
      "Train loss at epoch 186: 0.3192488536835496\n",
      "Train loss at epoch 187: 0.31865185685431724\n",
      "Train loss at epoch 188: 0.31809640471898465\n",
      "Train loss at epoch 189: 0.31752265438554594\n"
     ]
    },
    {
     "name": "stdout",
     "output_type": "stream",
     "text": [
      "Train loss at epoch 190: 0.3169885140497264\n",
      "Train loss at epoch 191: 0.3164169304766788\n",
      "Train loss at epoch 192: 0.31587568473131133\n",
      "Train loss at epoch 193: 0.3153261528726173\n",
      "Train loss at epoch 194: 0.3147956443613012\n",
      "Train loss at epoch 195: 0.31424430188356245\n",
      "Train loss at epoch 196: 0.3137000233752903\n",
      "Train loss at epoch 197: 0.3131664507228876\n",
      "Train loss at epoch 198: 0.31265277621238563\n",
      "Train loss at epoch 199: 0.31211797437975364\n",
      "Train loss at epoch 200: 0.3115726782220559\n"
     ]
    }
   ],
   "source": [
    "for epoch in range(epochs):\n",
    "\n",
    "    perm = np.random.permutation(train_set_x.shape[0])\n",
    "    \n",
    "    x_batches = [train_set_x[perm[index : index + batch_size]] \n",
    "                 for index in range(0, train_set_x.shape[0], batch_size)]\n",
    "    y_batches = [y[perm[index : index + batch_size]] for index in range(0, train_set_x.shape[0], batch_size)]\n",
    "\n",
    "    for (batch_x, batch_y) in zip(x_batches, y_batches):\n",
    "        out, cache = forward_prop(batch_x, W1, b1, W2, b2)\n",
    "        W2, b2, W1, b1 = back_prop(cache, batch_y, W2, b2, W1, b1)\n",
    "        \n",
    "    out, _ = forward_prop(train_set_x, W1, b1, W2, b2)\n",
    "    loss = cross_entropy_loss(out, y)\n",
    "\n",
    "    print(\"Train loss at epoch {}: {}\".format(epoch + 1, loss))"
   ]
  },
  {
   "cell_type": "code",
   "execution_count": 16,
   "metadata": {
    "ExecuteTime": {
     "end_time": "2021-05-07T13:01:23.923618Z",
     "start_time": "2021-05-07T13:01:23.772384Z"
    }
   },
   "outputs": [],
   "source": [
    "pred, _ = forward_prop(test_set_x,  W1, b1, W2, b2)"
   ]
  },
  {
   "cell_type": "code",
   "execution_count": 17,
   "metadata": {
    "ExecuteTime": {
     "end_time": "2021-05-07T13:01:34.312211Z",
     "start_time": "2021-05-07T13:01:34.287709Z"
    }
   },
   "outputs": [
    {
     "name": "stdout",
     "output_type": "stream",
     "text": [
      "Test accuracy: 91.36%\n"
     ]
    }
   ],
   "source": [
    "test_accuracy = accuracy(pred, test_set_y)\n",
    "print(\"Test accuracy: {}%\".format(test_accuracy))"
   ]
  },
  {
   "cell_type": "code",
   "execution_count": null,
   "metadata": {},
   "outputs": [],
   "source": []
  }
 ],
 "metadata": {
  "kernelspec": {
   "display_name": "Python 3",
   "language": "python",
   "name": "python3"
  },
  "language_info": {
   "codemirror_mode": {
    "name": "ipython",
    "version": 3
   },
   "file_extension": ".py",
   "mimetype": "text/x-python",
   "name": "python",
   "nbconvert_exporter": "python",
   "pygments_lexer": "ipython3",
   "version": "3.8.3"
  },
  "toc": {
   "base_numbering": 1,
   "nav_menu": {},
   "number_sections": true,
   "sideBar": true,
   "skip_h1_title": false,
   "title_cell": "Table of Contents",
   "title_sidebar": "Contents",
   "toc_cell": false,
   "toc_position": {},
   "toc_section_display": true,
   "toc_window_display": true
  },
  "varInspector": {
   "cols": {
    "lenName": 16,
    "lenType": 16,
    "lenVar": 40
   },
   "kernels_config": {
    "python": {
     "delete_cmd_postfix": "",
     "delete_cmd_prefix": "del ",
     "library": "var_list.py",
     "varRefreshCmd": "print(var_dic_list())"
    },
    "r": {
     "delete_cmd_postfix": ") ",
     "delete_cmd_prefix": "rm(",
     "library": "var_list.r",
     "varRefreshCmd": "cat(var_dic_list()) "
    }
   },
   "types_to_exclude": [
    "module",
    "function",
    "builtin_function_or_method",
    "instance",
    "_Feature"
   ],
   "window_display": false
  }
 },
 "nbformat": 4,
 "nbformat_minor": 4
}
