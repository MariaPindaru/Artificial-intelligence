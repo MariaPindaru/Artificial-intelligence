{
 "cells": [
  {
   "cell_type": "code",
   "execution_count": 2,
   "metadata": {
    "ExecuteTime": {
     "end_time": "2021-05-02T18:53:42.124258Z",
     "start_time": "2021-05-02T18:53:40.507881Z"
    }
   },
   "outputs": [],
   "source": [
    "import numpy as np\n",
    "import pandas as pd\n",
    "import matplotlib.pyplot as plt\n",
    "\n",
    "plt.rc('font', **{'size' : 18})"
   ]
  },
  {
   "cell_type": "markdown",
   "metadata": {},
   "source": [
    "## 4. Prelucrarea setului de date"
   ]
  },
  {
   "cell_type": "code",
   "execution_count": 8,
   "metadata": {
    "ExecuteTime": {
     "end_time": "2021-05-02T18:55:41.916859Z",
     "start_time": "2021-05-02T18:55:33.733676Z"
    }
   },
   "outputs": [],
   "source": [
    "train_set = pd.read_csv('mnist_train.csv').values\n",
    "test_set = pd.read_csv('mnist_test.csv').values"
   ]
  },
  {
   "cell_type": "markdown",
   "metadata": {},
   "source": [
    "Procesarea presupune separarea primului element din fiecare linie ca fiind eticheta $y$. Vom face acelaşi lucru şi pentru setul de train şi pentru cel de test:"
   ]
  },
  {
   "cell_type": "code",
   "execution_count": 9,
   "metadata": {
    "ExecuteTime": {
     "end_time": "2021-05-02T18:55:44.318319Z",
     "start_time": "2021-05-02T18:55:44.156371Z"
    }
   },
   "outputs": [],
   "source": [
    "train_x, train_y = train_set[:, 1:], train_set[:, 0]\n",
    "test_x, test_y = test_set[:, 1:], test_set[:, 0]\n",
    "\n",
    "# verificăm că setul de train este separat în sample-uri şi etichete:\n",
    "assert train_x.shape == (59999, 784)\n",
    "assert train_y.shape == (59999,)\n",
    "\n",
    "# la fel şi pentru setul de test:\n",
    "assert test_x.shape == (9999, 784)\n",
    "assert test_y.shape == (9999,)"
   ]
  },
  {
   "cell_type": "code",
   "execution_count": 10,
   "metadata": {
    "ExecuteTime": {
     "end_time": "2021-05-02T18:55:47.177476Z",
     "start_time": "2021-05-02T18:55:45.845692Z"
    }
   },
   "outputs": [
    {
     "data": {
      "image/png": "[encoded data removed]",
      "text/plain": [
       "<Figure size 1440x720 with 16 Axes>"
      ]
     },
     "metadata": {
      "needs_background": "light"
     },
     "output_type": "display_data"
    }
   ],
   "source": [
    "def show_samples(x_set, y_set):\n",
    "    size = x_set.shape[0]\n",
    "    \n",
    "    fig, ax = plt.subplots(size // 4, 4, figsize=(20, 10))\n",
    "    for k in range(size):\n",
    "        row, col = k // 4, k % 4\n",
    "        \n",
    "        # Make those columns into a array of 8-bits pixels\n",
    "        # The pixel intensity values are integers from 0 to 255\n",
    "        pixels = np.array(x_set[k], dtype='uint8')    \n",
    "        \n",
    "        # Reshape the array into 28 x 28 array (2-dimensional array)\n",
    "        n = int(np.sqrt(len(pixels)))\n",
    "        assert n**2 == len(pixels)\n",
    "        pixels = pixels.reshape(n, n)\n",
    "        ax[row, col].imshow(pixels, cmap='gray')\n",
    "        ax[row, col].set_title('Eticheta {label}'.format(label=y_set[k]))\n",
    "        ax[row, col].axis('off')\n",
    "\n",
    "    plt.show()\n",
    "    \n",
    "show_samples(train_x[:16], train_y[:16])"
   ]
  },
  {
   "cell_type": "code",
   "execution_count": 11,
   "metadata": {
    "ExecuteTime": {
     "end_time": "2021-05-02T18:55:48.926549Z",
     "start_time": "2021-05-02T18:55:48.915662Z"
    }
   },
   "outputs": [],
   "source": [
    "def normalize(x):\n",
    "    \"\"\"\n",
    "    Normalizarea înseamnă împărţirea cu 255\n",
    "    \n",
    "    Args:\n",
    "        x: matricea feature-urilor, dimensiune m x n\n",
    "    \n",
    "    Returns:\n",
    "        matricea cu valorile normalizate in in [0, 1], dimensiune m x n\n",
    "    \"\"\"\n",
    "    return x / 255.0"
   ]
  },
  {
   "cell_type": "code",
   "execution_count": 12,
   "metadata": {
    "ExecuteTime": {
     "end_time": "2021-05-02T18:55:51.530821Z",
     "start_time": "2021-05-02T18:55:50.753497Z"
    }
   },
   "outputs": [],
   "source": [
    "# în urma normalizării depunem rezultatele în aceleaşi variabile (le suprascriem)\n",
    "train_x, test_x = normalize(train_x), normalize(test_x)\n",
    "\n",
    "# valorile sample-urilor vor fi constrânse în intervalul [0, 1]\n",
    "assert np.all(np.bitwise_and(train_x >= 0., train_x <= 1.))\n",
    "assert np.all(np.bitwise_and(test_x >= 0., test_x <= 1.))"
   ]
  },
  {
   "cell_type": "markdown",
   "metadata": {},
   "source": [
    "Deoarece folosim funcţia cross-entropy pentru antrenare, vom encoda cu 'one-hot encoding' etichetele. Matricea train_y se va transforma dintr-o matrice de dimensiune $(m, 1)$ în una de dimensiuni $(m, k)$, unde $k = 10$ (avem 10 clase)."
   ]
  },
  {
   "cell_type": "code",
   "execution_count": 13,
   "metadata": {
    "ExecuteTime": {
     "end_time": "2021-05-02T18:55:53.817011Z",
     "start_time": "2021-05-02T18:55:53.508639Z"
    }
   },
   "outputs": [],
   "source": [
    "def single_hot(p, k):\n",
    "    \"\"\" \n",
    "    Single-hot encoding converteste o eticheta, de exemplu 7, in [0 0 0 0 0 0 0 1 0 0]\n",
    "    \n",
    "    Args:\n",
    "        p: pozitia pe care se pune \"1\"\n",
    "        k: numarul total de clase (lungimea listei generate)\n",
    "    \n",
    "    Returns:\n",
    "        lista de zero-uri cu pozitia p setata pe 1\n",
    "    \"\"\"\n",
    "    hot = np.zeros(k)\n",
    "    hot[p] = 1\n",
    "    return hot\n",
    "\n",
    "def one_hot(set_y, k):\n",
    "    \"\"\"\n",
    "    One-hot encoding converteste un intreg set la o forma matriciala.\n",
    "    Foloseste implemetarea lui single-hot.\n",
    "    \n",
    "    Args:\n",
    "        set_y: vector de dimensiune (m,)\n",
    "        k: numarul de clase\n",
    "        \n",
    "    Returns:\n",
    "        matricea de dimensiune (m, k), o linie reprezentind encodarea fiecarei etichete\n",
    "    \"\"\"\n",
    "    return np.array([single_hot(set_y[i], k) for i in range(set_y.size)])\n",
    "\n",
    "train_y = one_hot(train_y, 10)\n",
    "test_y = one_hot(test_y, 10)\n",
    "\n",
    "# verificam dimensiunile\n",
    "assert train_y.shape == (train_x.shape[0], 10)\n",
    "assert test_y.shape == (test_y.shape[0], 10)\n",
    "\n",
    "# verificam ca pe fiecare linie sa avem doar un 1 si restul zero-uri\n",
    "assert np.all(train_y.sum(axis=1) == 1)\n",
    "assert np.all(test_y.sum(axis=1) == 1)"
   ]
  },
  {
   "cell_type": "code",
   "execution_count": 15,
   "metadata": {
    "ExecuteTime": {
     "end_time": "2021-05-02T18:55:59.328294Z",
     "start_time": "2021-05-02T18:55:59.316139Z"
    }
   },
   "outputs": [],
   "source": [
    "def sigmoid(z):\n",
    "    return np.tanh(z)\n",
    "\n",
    "def sigmoid_derivative(z):\n",
    "    return 1.0 - (np.tanh(z) ** 2)\n",
    "\n",
    "def softmax(z):\n",
    "    exp = np.exp(z - np.max(z,axis=1,keepdims=True))\n",
    "    return exp / np.sum(exp, axis=1, keepdims=True)\n",
    "\n",
    "# verificam ca softmax-ul sa fie calculat corect\n",
    "a = np.array([[1., 3, 4], [2, 7, 3]])\n",
    "assert a.shape == softmax(a).shape\n",
    "assert np.all(np.abs(softmax(a).sum(axis=1) - 1) < 1e-6)\n",
    "assert softmax(a).sum(axis=1).shape == (2,)\n",
    "del a"
   ]
  },
  {
   "cell_type": "markdown",
   "metadata": {},
   "source": [
    "## 6. Implementarea propagării înainte (forward)\n",
    "\n",
    "Scopul este să evaluăm strat cu strat întreaga reţea, pornind de la intrare. Activările primului strat sunt chiar sample-urile setului de date $X$.\n",
    "\n",
    "Se vor calcula net-urile (z-urile) pentru fiecare strat:\n",
    "\n",
    "$z = w \\cdot a + b$, respectiv activarile următoare:\n",
    "\n",
    "$a = sigmoid(z)$, respectiv funcţia $softmax()$ pentru ultimul strat.\n",
    "\n",
    "De exemplu, intrarea $a_I$ are dimensiunea $(m, I)$. Ponderile primului strat $w_{JI}$ au dimensiunea $(J, I)$, deci activarea $a_J = f(a_I \\cdot w_{JI}^T + b_{JI}^T)$ va avea dimensiunea $(m, J)$ - vom folosi înmulţirea matricială pentru calculul net-ului $z_{J}$."
   ]
  },
  {
   "cell_type": "code",
   "execution_count": 16,
   "metadata": {
    "ExecuteTime": {
     "end_time": "2021-05-02T18:56:05.023034Z",
     "start_time": "2021-05-02T18:56:04.913467Z"
    }
   },
   "outputs": [
    {
     "name": "stdout",
     "output_type": "stream",
     "text": [
      "(3, 25)\n",
      "(10, 25)\n"
     ]
    }
   ],
   "source": [
    "import numpy as np\n",
    "\n",
    "def forward(set_x, weights, biases):\n",
    "    \"\"\"\n",
    "    Propagarea înainte prin reţea, cu calcularea net-urilor şi activărilor.\n",
    "    Atenţie că activările de pe ultimul strat se calculează cu funcţia softmax() în loc de sigmoid().\n",
    "    \n",
    "    Args:\n",
    "        set_x: setul de intrare de dimensiune (m, I)\n",
    "        weights: lista de matrici de ponderi\n",
    "        biases: lista de vectori de termeni liberi\n",
    "        \n",
    "    Returns:\n",
    "        activations: lista de activari\n",
    "        nets: lista de net-uri (z)\n",
    "    \"\"\"\n",
    "    nets = []\n",
    "    activations = [set_x]\n",
    "    \n",
    "    nets.append(activations[-1] @ weights[0].T + biases[0].T)\n",
    "    activations.append(sigmoid(nets[-1]))      \n",
    "        \n",
    "    nets.append(activations[-1] @ weights[1].T + biases[1].T)\n",
    "    activations.append(softmax(nets[-1]))\n",
    "    \n",
    "    return activations, nets\n",
    "\n",
    "# Pentru testare. luam intrarea de dimensiune (3, 25). 3 va fi dimensiunea batch size-ului,\n",
    "# iar I=25 este numarul de neuroni de pe primul strat.\n",
    "inputs = np.ones((3, 25)) * 0.5\n",
    "print(inputs.shape)\n",
    "\n",
    "# Stratul ascuns are J=10 neuroni iar ultimul (softmax) are K=4.\n",
    "weights = np.array([np.ones((10, 25)) * 0.2, np.ones((4, 10)) * 0.3])\n",
    "print(weights[0].shape)\n",
    "biases = [np.ones((10,)) * 0.1, np.ones((4,)) * 0.1]\n",
    "\n",
    "activations, nets = forward(inputs, weights, biases)\n",
    "\n",
    "# Pentru 3 straturi, se vor calcula 3 activări şi 2 net-uri în cele două liste rezultate:\n",
    "assert len(activations) == 3\n",
    "assert len(nets) == 2\n",
    "\n",
    "# Verificam forma activarilor\n",
    "assert activations[0].shape == inputs.shape == (3, 25)\n",
    "assert activations[1].shape == (3, 10)\n",
    "assert activations[2].shape == (3, 4)\n",
    "assert np.abs(np.linalg.norm(activations[0]) - 4.330127) < 1e-6\n",
    "assert np.abs(np.linalg.norm(activations[1]) - 5.4171262) < 1e-6\n",
    "assert np.abs(np.linalg.norm(activations[2]) - 0.8660254) < 1e-6\n",
    "\n",
    "# Verificam forma net-urilor\n",
    "assert nets[0].shape == (3, 10)\n",
    "assert nets[1].shape == (3, 4)\n",
    "assert np.abs(np.linalg.norm(nets[0]) - 14.2407865) < 1e-6\n",
    "assert np.abs(np.linalg.norm(nets[1]) - 10.6246844) < 1e-6"
   ]
  },
  {
   "cell_type": "markdown",
   "metadata": {},
   "source": [
    "## 7. Implementarea propagării înapoi (backward propagation)\n",
    "\n",
    "Propagarea înapoi are drept scop calcularea gradientului pentru fiecare strat. Pentru aceasta, va trebui să determinăm $\\delta$ asociat pentru fiecare strat începând de la ultimul.\n",
    "\n",
    "Atenţie că aceşti $\\delta$ nu sunt vectori coloană, ci matrici, cu prima dimensiune dimensiunea batch-ului şi a doua dimensiune dimensiunea stratului. Pe baza lui $\\delta$ veţi determina gradientul, prin medierea folosind dimensiunea batch-ului (prima dimensiune).\n",
    "\n",
    "O complicaţie din cauza dimensiunii batch-ului apare la următoarea relaţie:\n",
    "\n",
    "$\\delta_{a_J} = \\left( \\delta_{a_K} w_{KJ} \\right) \\odot f'(z_j)$\n",
    "\n",
    "Aici, $\\delta_{a_K}$ are dimensiunea $(m, K)$ iar prin înmulţirea cu $w_{KJ}$ se generează o matrice de dimensiuni $(m, J)$, aceleaşi cu cele ale lui $f'(z_j)$.\n",
    "\n",
    "O a doua complicaţie apare tot din cauza dimensiunii batch-ului la relaţiile de calcul a gradientului:\n",
    "\n",
    "$\\nabla_{w_{JI}} E = \\delta_{a_J} \\cdot a_I$\n",
    "\n",
    "Aici, $\\delta_{a_J}$ are dimensiunea $(m, J)$ iar $a_I$, $(m, I)$. Pentru a înmulţi primii $m$ vectori coloană cu ceilalţi $m$ vectori linie, folosim batch matrix multiplication - înmulţire normală de matrici doar pentru ultimele două dimensiuni, pentru fiecare element din dimensiunea 0. Adică redimensionăm $(m, J) \\rightarrow (m, J, 1)$ iar $(m, I) \\rightarrow (m, 1, I)$, iar prin înmulţirea lor matricială obţinem $(m, J, I)$. Reducem prin mediere prima dimensiune."
   ]
  },
  {
   "cell_type": "code",
   "execution_count": 17,
   "metadata": {
    "ExecuteTime": {
     "end_time": "2021-05-02T18:56:08.195112Z",
     "start_time": "2021-05-02T18:56:08.167887Z"
    }
   },
   "outputs": [],
   "source": [
    "def backward(weights, biases, activations, nets, set_y):\n",
    "    \"\"\"\n",
    "    Propagă delta spre intrarea reţelei începând de la ultimul strat\n",
    "    \n",
    "    Args:\n",
    "        weights: lista de ponderi\n",
    "        biases: lista de elemente libere\n",
    "        activations: lista de activari, calculata de forward\n",
    "        nets: lista de z-uri, calculata de forward\n",
    "        set_y: etichetele, one-hot encodate\n",
    "        \n",
    "    Returns:\n",
    "        delta_w, delta_b: update-urile gradientilor\n",
    "    \"\"\"\n",
    "    # declara delta-urile\n",
    "    delta_b = [np.zeros(b.shape) for b in biases]\n",
    "    delta_w = [np.zeros(w.shape) for w in weights]\n",
    "    \n",
    "    delta_a = [activations[-1] - set_y]\n",
    "    delta_a.insert(0, np.matmul(delta_a[0], weights[1]) * sigmoid_derivative(nets[0]))\n",
    "    \n",
    "    for i in range(1, len(activations)):\n",
    "        l = len(activations) - i - 1\n",
    "        \n",
    "        delta_aJ = delta_a[l].reshape(delta_a[l].shape[0], delta_a[l].shape[1], 1)\n",
    "        aI = activations[l].reshape(activations[l].shape[0], 1, activations[l].shape[1])\n",
    "        \n",
    "        delta_w[l] = np.matmul(delta_aJ, aI).mean(axis=0)  \n",
    "        delta_b[l] = np.mean(delta_a[l], axis=0)\n",
    "        \n",
    "        assert delta_w[l].shape == weights[l].shape\n",
    "        assert delta_b[l].shape == biases[l].shape\n",
    "        \n",
    "    return delta_w, delta_b\n",
    "\n",
    "# declaram niste etichete de test si aplicam metoda\n",
    "labels = one_hot(np.array([1, 0, 3]), 4)\n",
    "\n",
    "delta_w, delta_b = backward(weights, biases, activations, nets, labels)\n",
    "\n",
    "# verificam consistenta raspunsurilor\n",
    "assert len(delta_w) == len(delta_b) == 2\n",
    "assert delta_w[0].shape == (10, 25)\n",
    "assert delta_w[1].shape == (4, 10)\n",
    "assert delta_b[0].shape == (10,)\n",
    "assert delta_b[1].shape == (4,)\n",
    "assert np.linalg.norm(delta_w[0]) < 1e-15\n",
    "assert np.abs(np.linalg.norm(delta_w[1]) - 0.9028543) < 1e-6\n",
    "assert np.linalg.norm(delta_b[0]) < 1e-15\n",
    "assert np.abs(np.linalg.norm(delta_b[1]) - 0.2886751) < 1e-6"
   ]
  },
  {
   "cell_type": "markdown",
   "metadata": {},
   "source": [
    "## 8. Calculul unui batch şi a acurateţii\n",
    "\n",
    "Constă din propagarea înainte, propagarea înapoi, urmate de ajustarea ponderilor."
   ]
  },
  {
   "cell_type": "code",
   "execution_count": 18,
   "metadata": {
    "ExecuteTime": {
     "end_time": "2021-05-02T18:56:10.160682Z",
     "start_time": "2021-05-02T18:56:10.147341Z"
    }
   },
   "outputs": [],
   "source": [
    "def compute_batch(batch_x, batch_y, weights, biases, eta, lmbda):\n",
    "    \"\"\" \n",
    "    Realizeaza cei doi pasi pentru fiecare batch in parte\n",
    "    \n",
    "    Args:\n",
    "        batch_x: sample-urile de intrare\n",
    "        batch_y: etichetele lor\n",
    "        weights: lista cu ponderile reţelei\n",
    "        biases: lista cu termenii liberi\n",
    "        eta: rata de învăţare\n",
    "        lmbda: parametrul de regularizare\n",
    "        \n",
    "    Returns:\n",
    "        weights, biases: noile ponderi după actualizarea lor cu gradienţii calculaţi\n",
    "    \"\"\"\n",
    "    activations, nets = forward(batch_x, weights, biases)\n",
    "    delta_w, delta_b = backward(weights, biases, activations, nets, batch_y)\n",
    "\n",
    "    # Pentru fiecare parametru din lista se realizeaza:\n",
    "    # weight <-- weight - eta * (grad_w + lambda * weight)\n",
    "    # bias <-- bias - eta * grad_b\n",
    "    weights = [weight - eta * (grad_w + lmbda * weight) for weight, grad_w in zip(weights, delta_w)]\n",
    "    biases = [bias - eta * grad_b for bias, grad_b in zip(biases, delta_b)]\n",
    "    \n",
    "    return weights, biases"
   ]
  },
  {
   "cell_type": "markdown",
   "metadata": {},
   "source": [
    "Acurateţea presupune inspectarea etichetelor şi compararea lor cu rezultatul produs de reţea:"
   ]
  },
  {
   "cell_type": "code",
   "execution_count": 19,
   "metadata": {
    "ExecuteTime": {
     "end_time": "2021-05-02T18:56:12.248577Z",
     "start_time": "2021-05-02T18:56:12.229553Z"
    }
   },
   "outputs": [],
   "source": [
    "def accuracy(set_x, set_y, weights, biases):\n",
    "    \"\"\" \n",
    "    Calculeaza iesirea sub forma de one-hot encoding folosind feedforward(),\n",
    "    si o foloseste pentru a numara cate sample-uri sunt antrenate corect\n",
    "    \n",
    "    Args:\n",
    "        set_x: sample-urile, de dimensiune (m, n)\n",
    "        set_y: etichetele, de dimensiune (m, k)\n",
    "        weights: lista ponderilor reţelei\n",
    "        biases: lista termenilor liberi\n",
    "        \n",
    "    Returns:\n",
    "        procentul de sample-uri clasificate corect\n",
    "    \"\"\"\n",
    "    # ... call forward() \n",
    "    activations, _ = forward(set_x, weights, biases)\n",
    "    res = np.argmax(activations[-1], axis=1) == np.argmax(set_y, axis=1) \n",
    "    return 100 * res.sum() / len(res)\n",
    "\n",
    "assert np.abs(accuracy(inputs, labels, weights, biases) - 33.3333333) < 1e-6"
   ]
  },
  {
   "cell_type": "markdown",
   "metadata": {},
   "source": [
    "## 9. Antrenarea reţelei şi evaluarea pe setul de test"
   ]
  },
  {
   "cell_type": "code",
   "execution_count": 14,
   "metadata": {
    "ExecuteTime": {
     "end_time": "2021-05-02T17:36:42.334308Z",
     "start_time": "2021-05-02T17:24:31.610347Z"
    }
   },
   "outputs": [
    {
     "name": "stdout",
     "output_type": "stream",
     "text": [
      "epoch: 0, eta: 0.20, train accuracy: 95.23\n",
      "epoch: 1, eta: 0.16, train accuracy: 96.40\n",
      "epoch: 2, eta: 0.13, train accuracy: 97.06\n",
      "epoch: 3, eta: 0.10, train accuracy: 97.12\n",
      "epoch: 4, eta: 0.08, train accuracy: 97.53\n",
      "epoch: 5, eta: 0.07, train accuracy: 97.78\n",
      "epoch: 6, eta: 0.05, train accuracy: 97.84\n",
      "epoch: 7, eta: 0.04, train accuracy: 97.94\n",
      "epoch: 8, eta: 0.03, train accuracy: 97.95\n",
      "epoch: 9, eta: 0.03, train accuracy: 97.98\n"
     ]
    }
   ],
   "source": [
    "sizes = [28 * 28, 100, 10]\n",
    "scale = 1 / np.sqrt(train_x.shape[0])\n",
    "\n",
    "weights = [np.random.normal(loc=0, scale=scale, size = (j, i)) for i, j in zip(sizes[:-1], sizes[1:])]\n",
    "biases = [np.random.normal(loc=0, scale=scale, size = (i,)) for i in sizes[1:]]\n",
    "\n",
    "eta = 0.2\n",
    "batch_size = 20 # pentru aceasta dimensiune de batch, consumul de memorie este la 1.5 GB\n",
    "lmbda = 0.001\n",
    "epochs = 10\n",
    "\n",
    "for epoch in range(epochs):\n",
    "    # generarea unei permutari aleatoare a sample-urilor din set\n",
    "    perm = np.random.permutation(train_x.shape[0])\n",
    "    \n",
    "    # generarea batch-urilor folosind acea permutare aleatoare\n",
    "    x_batches = [train_x[perm[index : index + batch_size]] for index in range(0, train_x.shape[0], batch_size)]\n",
    "    y_batches = [train_y[perm[index : index + batch_size]] for index in range(0, train_x.shape[0], batch_size)]\n",
    "\n",
    "    # rularea batch-urilor si schimbarea ponderilor retelei\n",
    "    for (batch_x, batch_y) in zip(x_batches, y_batches):\n",
    "        weights, biases = compute_batch(batch_x, batch_y, weights, biases, eta, lmbda)\n",
    "        \n",
    "    print(f'epoch: {epoch}, eta: {eta:.2f}, train accuracy: {accuracy(train_x, train_y, weights, biases):.2f}')\n",
    "    \n",
    "    eta *= 0.8"
   ]
  },
  {
   "cell_type": "code",
   "execution_count": 15,
   "metadata": {
    "ExecuteTime": {
     "end_time": "2021-05-02T17:36:42.536098Z",
     "start_time": "2021-05-02T17:36:42.340671Z"
    }
   },
   "outputs": [
    {
     "data": {
      "text/plain": [
       "97.2897289728973"
      ]
     },
     "execution_count": 15,
     "metadata": {},
     "output_type": "execute_result"
    }
   ],
   "source": [
    "# acuratetea pe setul de test\n",
    "accuracy(test_x, test_y, weights, biases)"
   ]
  },
  {
   "cell_type": "code",
   "execution_count": null,
   "metadata": {},
   "outputs": [],
   "source": []
  }
 ],
 "metadata": {
  "kernelspec": {
   "display_name": "Python 3",
   "language": "python",
   "name": "python3"
  },
  "language_info": {
   "codemirror_mode": {
    "name": "ipython",
    "version": 3
   },
   "file_extension": ".py",
   "mimetype": "text/x-python",
   "name": "python",
   "nbconvert_exporter": "python",
   "pygments_lexer": "ipython3",
   "version": "3.8.3"
  },
  "toc": {
   "base_numbering": 1,
   "nav_menu": {},
   "number_sections": true,
   "sideBar": true,
   "skip_h1_title": false,
   "title_cell": "Table of Contents",
   "title_sidebar": "Contents",
   "toc_cell": false,
   "toc_position": {
    "height": "calc(100% - 180px)",
    "left": "10px",
    "top": "150px",
    "width": "307.2px"
   },
   "toc_section_display": true,
   "toc_window_display": true
  },
  "varInspector": {
   "cols": {
    "lenName": 16,
    "lenType": 16,
    "lenVar": 40
   },
   "kernels_config": {
    "python": {
     "delete_cmd_postfix": "",
     "delete_cmd_prefix": "del ",
     "library": "var_list.py",
     "varRefreshCmd": "print(var_dic_list())"
    },
    "r": {
     "delete_cmd_postfix": ") ",
     "delete_cmd_prefix": "rm(",
     "library": "var_list.r",
     "varRefreshCmd": "cat(var_dic_list()) "
    }
   },
   "types_to_exclude": [
    "module",
    "function",
    "builtin_function_or_method",
    "instance",
    "_Feature"
   ],
   "window_display": false
  }
 },
 "nbformat": 4,
 "nbformat_minor": 4
}
