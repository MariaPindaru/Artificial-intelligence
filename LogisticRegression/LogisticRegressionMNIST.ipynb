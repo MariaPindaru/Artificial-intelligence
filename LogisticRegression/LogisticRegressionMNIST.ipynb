{
 "cells": [
  {
   "cell_type": "markdown",
   "metadata": {},
   "source": [
    "# Regresia logistică\n",
    "\n",
    "[1] [Cross entrppy for dummies](https://towardsdatascience.com/cross-entropy-for-dummies-5189303c7735)\n",
    "\n",
    "[2] [Understanding logistic regression](https://towardsdatascience.com/understanding-logistic-regression-step-by-step-704a78be7e0a)\n",
    "\n",
    "[3] [Cross entropy log loss and intuition behind it](https://towardsdatascience.com/cross-entropy-log-loss-and-intuition-behind-it-364558dca514)\n",
    "\n",
    "[4] [Cross entropy (a se vedea secţiunea \"Relation with log-likelihood\")](https://en.wikipedia.org/wiki/Cross_entropy)"
   ]
  },
  {
   "cell_type": "code",
   "execution_count": 1,
   "metadata": {
    "ExecuteTime": {
     "end_time": "2021-04-03T16:46:33.633362Z",
     "start_time": "2021-04-03T16:46:31.874763Z"
    }
   },
   "outputs": [],
   "source": [
    "import numpy as np\n",
    "import matplotlib.pyplot as plt\n",
    "import csv\n",
    "import functools\n",
    "import tableprint as tab\n",
    "import pandas as pd\n",
    "\n",
    "plt.rc('font', **{'size' : 18})"
   ]
  },
  {
   "cell_type": "markdown",
   "metadata": {},
   "source": [
    "# Încărcarea setului de date"
   ]
  },
  {
   "cell_type": "code",
   "execution_count": 3,
   "metadata": {
    "ExecuteTime": {
     "end_time": "2021-04-03T16:46:38.506531Z",
     "start_time": "2021-04-03T16:46:34.397796Z"
    }
   },
   "outputs": [],
   "source": [
    "train_set = pd.read_csv('mnist_train.csv').values\n",
    "test_set = pd.read_csv('mnist_test.csv').values"
   ]
  },
  {
   "cell_type": "code",
   "execution_count": 4,
   "metadata": {
    "ExecuteTime": {
     "end_time": "2021-04-03T16:46:38.526494Z",
     "start_time": "2021-04-03T16:46:38.506531Z"
    }
   },
   "outputs": [],
   "source": [
    "# train_set si test_set sunt matrici care contin pe prima coloana clasa (o cifra de la 0 la 9),\n",
    "#  iar imaginea este pastrata incepand de pe coloana 1 pana la terminare.\n",
    "# Decupati in train_x doar imaginile iar in train_y doar clasa,\n",
    "#  si faceti acelasi lucru si pentru test_x si test_y\n",
    "train_x, train_y = train_set[:, 1:], train_set[:, 0]\n",
    "test_x, test_y = test_set[:, 1:], test_set[:, 0]\n",
    "\n",
    "assert train_x.shape == (59999, 784)\n",
    "assert train_y.shape == (59999,)\n",
    "assert test_x.shape == (9999, 784)\n",
    "assert test_y.shape == (9999,)"
   ]
  },
  {
   "cell_type": "markdown",
   "metadata": {},
   "source": [
    "Să vizualizăm setul de date. Vom observa primele 16 linii din setul de antrenare:"
   ]
  },
  {
   "cell_type": "code",
   "execution_count": 5,
   "metadata": {
    "ExecuteTime": {
     "end_time": "2021-04-03T16:46:39.152145Z",
     "start_time": "2021-04-03T16:46:38.526494Z"
    }
   },
   "outputs": [
    {
     "name": "stdout",
     "output_type": "stream",
     "text": [
      "(16, 784) (16,)\n"
     ]
    },
    {
     "data": {
      "image/png": "[encoded data removed]",
      "text/plain": [
       "<Figure size 1440x720 with 16 Axes>"
      ]
     },
     "metadata": {
      "needs_background": "light"
     },
     "output_type": "display_data"
    }
   ],
   "source": [
    "def show_samples(x_set, y_set):\n",
    "    size = x_set.shape[0]\n",
    "    \n",
    "    fig, ax = plt.subplots(size // 4, 4, figsize=(20, 10))\n",
    "    for k in range(size):\n",
    "        row, col = k // 4, k % 4\n",
    "        \n",
    "        # Make those columns into a array of 8-bits pixels\n",
    "        # The pixel intensity values are integers from 0 to 255\n",
    "        pixels = np.array(x_set[k], dtype='uint8')    \n",
    "        \n",
    "        # Reshape the array into 28 x 28 array (2-dimensional array)\n",
    "        n = int(np.sqrt(len(pixels)))\n",
    "        assert n**2 == len(pixels)\n",
    "        pixels = pixels.reshape(n, n)\n",
    "        ax[row, col].imshow(pixels, cmap='gray')\n",
    "        ax[row, col].set_title('Eticheta {label}'.format(label=y_set[k]))\n",
    "        ax[row, col].axis('off')\n",
    "\n",
    "    plt.show()\n",
    "print(train_x[:16].shape, train_y[:16].shape)\n",
    "show_samples(train_x[:16], train_y[:16])"
   ]
  },
  {
   "cell_type": "markdown",
   "metadata": {},
   "source": [
    "Pentru regresia binomială, ne interesează să clasificăm deocamdată doar imaginile corespunzătoare a două clase, pentru cifrele '0' şi '1'. Vom defini seturile care 'decupează' doar aceste două clase din seturile date:"
   ]
  },
  {
   "cell_type": "code",
   "execution_count": 30,
   "metadata": {
    "ExecuteTime": {
     "end_time": "2021-04-03T16:51:05.224591Z",
     "start_time": "2021-04-03T16:51:04.900487Z"
    }
   },
   "outputs": [],
   "source": [
    "train_x_bin, train_y_bin = train_x[train_y <= 1], train_y[train_y <= 1].reshape(-1, 1)\n",
    "\n",
    "test_x_bin, test_y_bin = test_x[test_y <= 1], test_y[test_y <= 1].reshape(-1, 1)\n",
    "\n",
    "assert train_x_bin.shape == (12665, 784)\n",
    "assert train_y_bin.shape == (12665, 1)\n",
    "assert test_x_bin.shape == (2115, 784)\n",
    "assert test_y_bin.shape == (2115, 1)"
   ]
  },
  {
   "cell_type": "markdown",
   "metadata": {},
   "source": [
    " La fel ca si la regresia liniară, prima coloană trebuie să fie formată doar din cifra 1:"
   ]
  },
  {
   "cell_type": "code",
   "execution_count": 31,
   "metadata": {
    "ExecuteTime": {
     "end_time": "2021-04-03T16:51:07.133075Z",
     "start_time": "2021-04-03T16:51:07.030782Z"
    }
   },
   "outputs": [],
   "source": [
    "def add_ones_column(x):\n",
    "    \"\"\"\n",
    "    Adds a column of ones to x\n",
    "    \"\"\"\n",
    "    x = np.concatenate((np.ones((x.shape[0], 1)), x), axis = 1)\n",
    "    return x\n",
    "\n",
    "train_x_bin_ext = add_ones_column(train_x_bin)\n",
    "test_x_bin_ext = add_ones_column(test_x_bin)\n",
    "\n",
    "assert train_x_bin_ext.shape == (12665, 785)\n",
    "assert test_x_bin_ext.shape == (2115, 785)\n",
    "assert np.all(train_x_bin_ext[:, 0] == 1)\n",
    "assert np.all(test_x_bin_ext[:, 0] == 1)"
   ]
  },
  {
   "cell_type": "markdown",
   "metadata": {},
   "source": [
    "Feature-urile trebuiesc normalizate, valoarea maximă fiind 255. Normalizarea urmăreşte ca toate featurile rezultate să fie în intervalul \\[0, 1\\], deci vom împărţi la valoarea maximă."
   ]
  },
  {
   "cell_type": "code",
   "execution_count": 32,
   "metadata": {
    "ExecuteTime": {
     "end_time": "2021-04-03T16:51:09.747344Z",
     "start_time": "2021-04-03T16:51:09.467076Z"
    }
   },
   "outputs": [],
   "source": [
    "def normalize(x):\n",
    "    \"\"\"\n",
    "    Normalization means division by 255\n",
    "    \n",
    "    Args:\n",
    "        x: matricea feature-urilor, dimensiune m x n\n",
    "    \n",
    "    Returns:\n",
    "        matricea cu valorile normalizate in in [0, 1], dimensiune m x n\n",
    "    \"\"\"\n",
    "\n",
    "    return x / 255.0\n",
    "\n",
    "train_x_bin_ext = add_ones_column(normalize(train_x_bin))\n",
    "test_x_bin_ext = add_ones_column(normalize(test_x_bin))\n",
    "\n",
    "assert train_x_bin_ext.shape == (12665, 785)\n",
    "assert test_x_bin_ext.shape == (2115, 785)\n",
    "assert np.all(train_x_bin_ext[:, 0] == 1)\n",
    "assert np.all(test_x_bin_ext[:, 0] == 1)\n",
    "assert np.all(train_x_bin_ext <= 1)\n",
    "assert np.all(test_x_bin_ext <= 1)\n",
    "assert np.all(train_x_bin_ext >= 0)\n",
    "assert np.all(test_x_bin_ext >= 0)"
   ]
  },
  {
   "cell_type": "markdown",
   "metadata": {},
   "source": [
    "Calculăm funcţia sigmoidă, $sigmoid(z) = \\frac{1}{1 + e^{-z}}$ respectiv $h(x, \\theta) = sigmoid \\left( \\frac{1}{1 + e^{-X  \\theta}} \\right)$:"
   ]
  },
  {
   "cell_type": "code",
   "execution_count": 33,
   "metadata": {
    "ExecuteTime": {
     "end_time": "2021-04-03T16:51:13.509728Z",
     "start_time": "2021-04-03T16:51:13.500234Z"
    }
   },
   "outputs": [],
   "source": [
    "def sigmoid(z):\n",
    "    return 1 / (1 + np.exp(-z))\n",
    "\n",
    "assert sigmoid(0) == 0.5\n",
    "assert np.abs(sigmoid(1) - 0.731058) < 1e-6\n",
    "\n",
    "def h(x, theta):\n",
    "    return sigmoid(np.dot(x, theta))\n",
    "\n",
    "assert np.abs(h(np.array([1., 1., 1., 0]), np.array([1., 0., 1., 1.])) - 0.880797) < 1e-6"
   ]
  },
  {
   "cell_type": "markdown",
   "metadata": {},
   "source": [
    "Calculăm funcţia de cost cu regularizare de data aceasta (atenţie, coeficientul $\\theta_0$ nu se regularizează):\n",
    "\n",
    "$$J(\\theta) = \\frac{1}{m} \\mathbb{1}_m^T \\left\\{ - Y \\odot \\ln[h(X \\theta)] - (\\mathbb{1}_m-Y) \\odot \\ln[\\mathbb{1}_m-h(X \\theta)] \\right\\} + \\frac{\\lambda}{2} \\sum_{i=1}^{n-1} \\|\\theta_i\\|^2$$\n",
    "\n",
    "Am folosit aici notaţia $\\odot$, ce specifică produsul Hadamard, element cu element. Pentru a realiza înmulţirea dintre matricea $X$ de dimensiune $(m, n)$ şi vectorul $\\theta$ de dimensiune $(n, 1)$, produsul de matrici $X \\cdot \\theta$ este considerat implicit."
   ]
  },
  {
   "cell_type": "code",
   "execution_count": 34,
   "metadata": {
    "ExecuteTime": {
     "end_time": "2021-04-03T16:51:15.896917Z",
     "start_time": "2021-04-03T16:51:15.868165Z"
    }
   },
   "outputs": [],
   "source": [
    "def cost(x, y, theta, lmbda):\n",
    "    \"\"\"\n",
    "    Cost function includes also regularization\n",
    "    \n",
    "    Args:\n",
    "        x: matricea feature-urilor, dimensiune m x n\n",
    "        y: vectorul evidentei, dimensiune m\n",
    "        theta: vectorul coeficientilor, dimensiune n\n",
    "        \n",
    "    Returns:\n",
    "        costul, ca scalar\n",
    "    \"\"\"\n",
    "    cost = np.multiply(y, np.log(h(x, theta))) + \\\n",
    "            np.multiply((np.ones((y.size, 1)) - y), np.log(np.ones((y.size, 1)) - h(x, theta)))\n",
    "    return -1 / y.size * (np.dot(np.ones(y.size).T, cost)).sum() + lmbda / 2.0 * np.sum(theta[1:] ** 2)\n",
    "\n",
    "np.random.seed(11)\n",
    "n = train_x_bin_ext.shape[1]\n",
    "theta = np.random.randn(n).reshape(n, 1)\n",
    "assert np.abs(cost(train_x_bin_ext, train_y_bin, theta=theta, lmbda=0.2) - 79.815566) < 1e-6"
   ]
  },
  {
   "cell_type": "markdown",
   "metadata": {},
   "source": [
    "Calculăm gradientul, folosind expresia determinată anterior, şi ţinând seama de termenul de regularizare:\n",
    "\n",
    "$$\\nabla_{\\theta} J(X, Y, \\theta) = \\frac{1}{m} \\mathbb{1}_m^T \\left\\{ \\left[ h(X \\theta) - Y\\right] \\odot X \\right\\} + \\lambda [0, \\theta_{1..n-1}]$$"
   ]
  },
  {
   "cell_type": "code",
   "execution_count": 35,
   "metadata": {
    "ExecuteTime": {
     "end_time": "2021-04-03T16:51:19.008609Z",
     "start_time": "2021-04-03T16:51:18.895959Z"
    }
   },
   "outputs": [],
   "source": [
    "def deltas(x, y, theta, lmbda):\n",
    "    \"\"\"\n",
    "    Computation of gradient with regularization term\n",
    "    \n",
    "    Args:\n",
    "        x: matricea feature-urilor, dimensiune m x n\n",
    "        y: vectorul evidentei, dimensiune m\n",
    "        theta: vectorul coeficientilor, dimensiune n\n",
    "        lmbda: coeficientul de regularizare\n",
    "        \n",
    "    Returns:\n",
    "        gradientul, vector de n elemente\n",
    "    \"\"\"\n",
    "    regularization = lmbda * np.concatenate(([[0]], theta[1:]), axis = 0)\n",
    "    return 1 / y.size * np.dot(np.ones(y.size), (h(x, theta) - y) * x).reshape(theta.shape[0], 1) + regularization\n",
    "\n",
    "np.random.seed(11)\n",
    "n = train_x_bin_ext.shape[1]\n",
    "theta = np.random.randn(n).reshape(n, 1)\n",
    "res = deltas(train_x_bin_ext, train_y_bin, theta=theta, lmbda=0.2)\n",
    "assert res.shape == (785, 1)"
   ]
  },
  {
   "cell_type": "markdown",
   "metadata": {},
   "source": [
    "Algoritmul de antrenare va stoca costul asociat fiecărei epoci într-o listă:"
   ]
  },
  {
   "cell_type": "code",
   "execution_count": 36,
   "metadata": {
    "ExecuteTime": {
     "end_time": "2021-04-03T16:51:22.201288Z",
     "start_time": "2021-04-03T16:51:22.190182Z"
    }
   },
   "outputs": [],
   "source": [
    "def compute_accuracy(x_set, y_set, theta):\n",
    "    pred = ((h(x_set, theta) >= 0.5) * 1 == y_set)\n",
    "    return 100.0 * sum(pred) / pred.shape[0]"
   ]
  },
  {
   "cell_type": "code",
   "execution_count": 37,
   "metadata": {
    "ExecuteTime": {
     "end_time": "2021-04-03T16:51:30.850942Z",
     "start_time": "2021-04-03T16:51:24.314831Z"
    }
   },
   "outputs": [
    {
     "name": "stdout",
     "output_type": "stream",
     "text": [
      "last cost: 0.273241\n"
     ]
    }
   ],
   "source": [
    "# Set learning rate\n",
    "eta = 0.2\n",
    "\n",
    "# Set regularization coefficient\n",
    "lmbda = 0.5\n",
    "\n",
    "# In x, we have m instances of n features each\n",
    "# Create theta as a vector (n x 1)\n",
    "n = np.shape(train_x_bin_ext)[1]\n",
    "theta = np.random.randn(n).reshape(n, 1)\n",
    "\n",
    "# Do the training\n",
    "epochs = 40\n",
    "values = []\n",
    "accurracies = []\n",
    "for i in range(epochs):\n",
    "    theta -= eta * deltas(train_x_bin_ext, train_y_bin, theta, lmbda)\n",
    "    acc = compute_accuracy(train_x_bin_ext, train_y_bin, theta)\n",
    "    values.append(cost(train_x_bin_ext, train_y_bin, theta, lmbda))\n",
    "    accurracies.append(acc)\n",
    "    \n",
    "print(\"last cost: %g\" % values[-1])"
   ]
  },
  {
   "cell_type": "code",
   "execution_count": 38,
   "metadata": {
    "ExecuteTime": {
     "end_time": "2021-04-03T16:51:47.422968Z",
     "start_time": "2021-04-03T16:51:46.678895Z"
    }
   },
   "outputs": [
    {
     "data": {
      "image/png": "[encoded data removed]",
      "text/plain": [
       "<Figure size 1440x720 with 2 Axes>"
      ]
     },
     "metadata": {
      "needs_background": "light"
     },
     "output_type": "display_data"
    }
   ],
   "source": [
    "fig, ax = plt.subplots(2, 1, figsize=(20, 10), sharex=True)\n",
    "ax[0].plot(range(len(values)), values)\n",
    "ax[0].set_xlabel('epoch') ; ax[0].set_ylabel('cost')\n",
    "ax[0].grid()\n",
    "ax[1].plot(range(len(accurracies)), accurracies)\n",
    "ax[1].set_xlabel('epoch') ; ax[1].set_ylabel('accurracy [%]')\n",
    "ax[1].grid()\n",
    "plt.show()"
   ]
  },
  {
   "cell_type": "code",
   "execution_count": 39,
   "metadata": {
    "ExecuteTime": {
     "end_time": "2021-04-03T16:51:51.017774Z",
     "start_time": "2021-04-03T16:51:50.992896Z"
    }
   },
   "outputs": [
    {
     "name": "stdout",
     "output_type": "stream",
     "text": [
      "accuracy: 99.86% for 2115 patterns\n",
      "╭──────────────────┬──────────────────┬──────────────────┬──────────────────╮\n",
      "│ Confusion Matrix │          pred: 0 │          pred: 1 │        pred: all │\n",
      "├──────────────────┼──────────────────┼──────────────────┼──────────────────┤\n",
      "│        actual: 0 │              978 │                2 │              980 │\n",
      "│        actual: 1 │                1 │             1134 │             1135 │\n",
      "│      actual: all │              979 │             1136 │             2115 │\n",
      "╰──────────────────┴──────────────────┴──────────────────┴──────────────────╯\n"
     ]
    }
   ],
   "source": [
    "# Calculam acuratetea pentru setul de test\n",
    "# Aceasta presupune sa numaram cate predictii se potrivesc cu realitatea si sa exprimam acest lucru procentual\n",
    "pred = ((h(test_x_bin_ext, theta) >= 0.5) * 1 == test_y_bin)\n",
    "print(\"accuracy: %2.2f%% for %d patterns\" % (100.0 * np.average(pred) , test_x_bin_ext.shape[0]))\n",
    "\n",
    "# Calculam confusion matrix\n",
    "# true positive: y = 1 and pred = 1\n",
    "# true negative: y = 0 and pred = 0\n",
    "# false positive: y = 0 and pred = 1\n",
    "# false negative: y = 1 and pred = 0\n",
    "pred = (h(test_x_bin_ext, theta) >= 0.5) * 1\n",
    "tp = np.sum(np.logical_and(pred == 1, test_y_bin == 1))\n",
    "tn = np.sum(np.logical_and(pred == 0, test_y_bin == 0))\n",
    "fp = np.sum(np.logical_and(pred == 1, test_y_bin == 0))\n",
    "fn = np.sum(np.logical_and(pred == 0, test_y_bin == 1))\n",
    "\n",
    "headers = ['Confusion Matrix', 'pred: 0', 'pred: 1', 'pred: all'] \n",
    "table = [\n",
    "    ['actual: 0', tn, fp, tn + fp],\n",
    "    ['actual: 1', fn, tp, fn + tp],\n",
    "    ['actual: all', tn + fn, fp + tp, tn + fn + fp + tp]]\n",
    "tab.table(table, headers, width=16)"
   ]
  },
  {
   "cell_type": "markdown",
   "metadata": {},
   "source": [
    "## 4. Regresia logistică multinomială"
   ]
  },
  {
   "cell_type": "code",
   "execution_count": 40,
   "metadata": {
    "ExecuteTime": {
     "end_time": "2021-04-03T16:51:57.135571Z",
     "start_time": "2021-04-03T16:51:54.302061Z"
    }
   },
   "outputs": [],
   "source": [
    "# classes\n",
    "k = 10\n",
    "\n",
    "# Adaugam la features coloana de 1-uri\n",
    "train_x_all_ext = add_ones_column(normalize(train_x))\n",
    "test_x_all_ext = add_ones_column(normalize(test_x))\n",
    "\n",
    "assert train_x_all_ext.shape == (59999, 785)\n",
    "assert test_x_all_ext.shape == (9999, 785)\n",
    "assert np.all(train_x_all_ext[:, 0] == 1)\n",
    "assert np.all(test_x_all_ext[:, 0] == 1)\n",
    "assert np.all(train_x_all_ext <= 1)\n",
    "assert np.all(test_x_all_ext <= 1)\n",
    "assert np.all(train_x_all_ext >= 0)\n",
    "assert np.all(test_x_all_ext >= 0)"
   ]
  },
  {
   "cell_type": "code",
   "execution_count": 41,
   "metadata": {
    "ExecuteTime": {
     "end_time": "2021-04-03T16:51:58.287561Z",
     "start_time": "2021-04-03T16:51:57.644165Z"
    }
   },
   "outputs": [],
   "source": [
    "def one_hot(val, classes):\n",
    "    \"\"\"\n",
    "    Realizeaza 'one-hot encoding', conversia unui intreg la un array binar,\n",
    "    care are 1 doar pe pozitia specificata de val\n",
    "    \n",
    "    Args:\n",
    "        val: clasa ce trebuie encodata, un intreg intre {0, 1, ... K-1}\n",
    "        classes: numarul de clase K\n",
    "        \n",
    "    Returns:\n",
    "        un array de zerouri de lungime K, unde doar pe pozitia val avem o valoare 1\n",
    "    \"\"\"\n",
    "    one_hot = np.zeros(classes)\n",
    "    one_hot[val] = 1\n",
    "    return one_hot\n",
    "\n",
    "assert np.all(one_hot(7, k) == np.array([[0, 0, 0, 0, 0, 0, 0, 1, 0, 0]]))\n",
    "assert np.all(one_hot(3, k) == np.array([[0, 0, 0, 1, 0, 0, 0, 0, 0, 0]]))\n",
    "\n",
    "train_y_all = np.concatenate([[one_hot(int(i), k)] for i in train_y])\n",
    "test_y_all = np.concatenate([[one_hot(int(i), k)] for i in test_y])\n",
    "assert train_y_all.shape == (59999, 10)\n",
    "assert test_y_all.shape == (9999, 10)\n",
    "assert np.all((train_y_all != 0) == (train_y_all == 1))"
   ]
  },
  {
   "cell_type": "markdown",
   "metadata": {},
   "source": [
    "Produsul $X \\theta$ între matricea X de dimensiune (m, n) şi $\\theta$ de dimensiune (n, k) va avea dimensiunea (m, k):"
   ]
  },
  {
   "cell_type": "code",
   "execution_count": 42,
   "metadata": {
    "ExecuteTime": {
     "end_time": "2021-04-03T16:52:00.168211Z",
     "start_time": "2021-04-03T16:52:00.062066Z"
    }
   },
   "outputs": [],
   "source": [
    "def prod(x, theta):\n",
    "    \"\"\"\n",
    "    Product between X of shape (m x n) and theta of shape (n x k)\n",
    "    \n",
    "    Args:\n",
    "        x: feature-urile, dimensiune m x n\n",
    "        theta: parametrii, de dimensiune n x k\n",
    "        \n",
    "    Returns:\n",
    "        produsul lor de dimensiune m x k\n",
    "    \"\"\"\n",
    "    return np.dot(x, theta)\n",
    "\n",
    "m, n = train_x_all_ext.shape\n",
    "np.random.seed(11)\n",
    "theta = np.random.randn(n, k)\n",
    "assert prod(train_x_all_ext, theta).shape == (m, k)"
   ]
  },
  {
   "cell_type": "markdown",
   "metadata": {},
   "source": [
    "Funcţia $softmax()$ va avea aceleaşi dimensiuni (m, k) şi trebuie să dea pe fiecare coloană suma 1. Se poate scrie compact calculul ei astfel:\n",
    "\n",
    "$$softmax(X, \\theta) = \\frac{e^{X \\theta}}{e^{X \\theta} \\cdot \\mathbb{1}_k}$$\n",
    "\n",
    "Termenul de la numitor, $e^{X \\theta} \\cdot \\mathbb{1}_k$, nu mai este o matrice, ci un vector de dimensiunea (m, 1) (practic se realizează suma pe fiecare linie). Pentru realizarea împărţirii se realizează operaţia de broadcast."
   ]
  },
  {
   "cell_type": "code",
   "execution_count": 43,
   "metadata": {
    "ExecuteTime": {
     "end_time": "2021-04-03T16:52:02.300990Z",
     "start_time": "2021-04-03T16:52:02.170723Z"
    }
   },
   "outputs": [],
   "source": [
    "def softmax(x, theta):\n",
    "    \"\"\"\"\n",
    "    Calculul functie softmax\n",
    "    \n",
    "    Args:\n",
    "        x: feature-urile, dimensiune m x n\n",
    "        theta: parametrii, de dimensiune n x k\n",
    "        \n",
    "    Returns:\n",
    "        produsul lor de dimensiune m x k\n",
    "    \"\"\"\n",
    "    exp = np.exp(prod(x, theta))\n",
    "    return exp / np.sum(exp, axis = 1).reshape(x.shape[0], 1)\n",
    "\n",
    "m, n = train_x_all_ext.shape\n",
    "np.random.seed(11)\n",
    "theta = np.random.randn(n, k)\n",
    "smax = softmax(train_x_all_ext, theta)\n",
    "assert smax.shape == (m, k)\n",
    "assert np.all((smax.sum(axis=1) - 1) < 1e-12)"
   ]
  },
  {
   "cell_type": "markdown",
   "metadata": {},
   "source": [
    "Funcţia de cost ce include regularizarea poate fi scrisă mai compact astfel:\n",
    "\n",
    "$$J(X, Y, \\theta, \\lambda) = -\\frac{1}{m} \\mathbb{1}_m^T \\left\\{ Y \\odot \\log[softmax(X \\theta)] \\mathbb{1}_k \\right\\} + \\frac{\\lambda}{2} \\sum_{i=1}^{n-1}\\sum_{j=0}^{k-1} \\|\\theta_{i,j}\\|^2$$"
   ]
  },
  {
   "cell_type": "code",
   "execution_count": 44,
   "metadata": {
    "ExecuteTime": {
     "end_time": "2021-04-03T16:52:04.676750Z",
     "start_time": "2021-04-03T16:52:04.506585Z"
    }
   },
   "outputs": [],
   "source": [
    "def cost(x, y, theta, lmbda):\n",
    "    \"\"\"\n",
    "    Costul include regularizarea\n",
    "    \n",
    "    Args:\n",
    "        x: feature-urile, dimensiune m x n\n",
    "        y: clasele, de dimensiune m x k\n",
    "        theta: parametrii, de dimensiune n x k\n",
    "        lmbda: parametrul de regularizare, scalar\n",
    "        \n",
    "    Returns:\n",
    "        costul, ca scalar\n",
    "\n",
    "    \"\"\"\n",
    "    regularization =  (lmbda / 2.0) * np.sum(theta[1:,:] ** 2)\n",
    "    cost = np.dot(np.multiply(y, np.log(softmax(x, theta))), np.ones((y.shape[1], 1)))\n",
    "    return -1 / x.shape[0] * np.dot(np.ones(x.shape[0]), cost).sum() + regularization\n",
    "\n",
    "m, n = train_x_all_ext.shape\n",
    "np.random.seed(11)\n",
    "theta = np.random.randn(n, k)\n",
    "assert (cost(train_x_all_ext, train_y_all, theta=theta, lmbda=0.2) - 804.384938) < 1e-6"
   ]
  },
  {
   "cell_type": "markdown",
   "metadata": {},
   "source": [
    "Gradientul se calculează astfel:\n",
    "\n",
    "$$\\nabla_{\\theta}J = - \\frac{1}{m} X^T \\left[Y - softmax(X \\theta) \\right] + \\lambda \\left[ \\mathbb{0}_n, \\theta_{1 \\dots k-1} \\right]$$\n",
    "\n",
    "unde matricea $\\left[ \\mathbb{0}_n, \\theta_{1 \\dots k-1} \\right]$ are tot dimensiunea (n, k), ca şi $\\theta$, doar că prima coloană este zero."
   ]
  },
  {
   "cell_type": "code",
   "execution_count": 45,
   "metadata": {
    "ExecuteTime": {
     "end_time": "2021-04-03T16:52:06.882248Z",
     "start_time": "2021-04-03T16:52:06.597741Z"
    }
   },
   "outputs": [],
   "source": [
    "def deltas(x, y, theta, lmbda):\n",
    "    \"\"\"\n",
    "    Calculeaza gradientul\n",
    "\n",
    "    Args:\n",
    "        x: feature-urile, dimensiune m x n\n",
    "        y: clasele, de dimensiune m x k\n",
    "        theta: parametrii, de dimensiune n x k\n",
    "        lmbda: parametrul de regularizare, scalar\n",
    "        \n",
    "    Returns:\n",
    "        matricea gradientilor, de dimensiunea lui theta (n x k)\n",
    "    \"\"\"\n",
    "    return -(1 / x.shape[0]) * np.dot(x.T, y - softmax(x, theta)) + \\\n",
    "            lmbda * np.concatenate((np.zeros((1,theta.shape[1])), theta[1:,:]), axis = 0)\n",
    "\n",
    "m, n = train_x_all_ext.shape\n",
    "np.random.seed(11)\n",
    "theta = np.random.randn(n, k)\n",
    "grad = deltas(train_x_all_ext, train_y_all, theta=theta, lmbda=0.2)\n",
    "assert grad.shape == (n, k)\n",
    "assert (grad.sum() + 6.0286086) < 1e-6"
   ]
  },
  {
   "cell_type": "code",
   "execution_count": 46,
   "metadata": {
    "ExecuteTime": {
     "end_time": "2021-04-03T16:52:08.660342Z",
     "start_time": "2021-04-03T16:52:08.648234Z"
    }
   },
   "outputs": [],
   "source": [
    "# cel mai mare nr de pe coloana => cea mai mare probabilitate\n",
    "# poz max de pe coloana\n",
    "\n",
    "def calculate_accurracy(set_x, set_y, theta):\n",
    "    pred = np.argmax(softmax(set_x, theta), axis=1)\n",
    "    true_pred = np.sum(pred == np.argmax(set_y, axis=1))\n",
    "    return 100.0 * true_pred.sum() / pred.shape[0]"
   ]
  },
  {
   "cell_type": "code",
   "execution_count": 47,
   "metadata": {
    "ExecuteTime": {
     "end_time": "2021-04-03T16:53:19.632682Z",
     "start_time": "2021-04-03T16:52:11.002166Z"
    }
   },
   "outputs": [
    {
     "name": "stdout",
     "output_type": "stream",
     "text": [
      "epoch:  0 cost:  194.5528550437345\n",
      "epoch:  10 cost:  93.81863374749436\n",
      "epoch:  20 cost:  49.13055686165838\n",
      "epoch:  30 cost:  27.42488074595834\n",
      "epoch:  40 cost:  16.20668516652925\n",
      "epoch:  50 cost:  10.102156806770875\n",
      "epoch:  60 cost:  6.625541471995606\n",
      "epoch:  70 cost:  4.561877084206647\n",
      "epoch:  80 cost:  3.289199509105865\n",
      "epoch:  90 cost:  2.4759135293600907\n",
      "epoch:  100 cost:  1.9386176889271702\n",
      "epoch:  110 cost:  1.5723950488109995\n",
      "epoch:  120 cost:  1.3153287550439505\n",
      "epoch:  130 cost:  1.129812147686424\n",
      "epoch:  140 cost:  0.9923883846410227\n",
      "epoch:  150 cost:  0.8880618681299075\n",
      "epoch:  160 cost:  0.8070247680570984\n",
      "epoch:  170 cost:  0.7427246081027247\n",
      "epoch:  180 cost:  0.6906961045857418\n",
      "epoch:  190 cost:  0.64783922736064\n",
      "epoch:  200 cost:  0.6119637570842356\n",
      "epoch:  210 cost:  0.5814964005736103\n",
      "epoch:  220 cost:  0.5552890416895622\n",
      "epoch:  230 cost:  0.5324910873838977\n",
      "epoch:  240 cost:  0.5124631437919053\n",
      "epoch:  250 cost:  0.4947177791786644\n",
      "epoch:  260 cost:  0.47887831177415113\n",
      "epoch:  270 cost:  0.4646497653428585\n",
      "epoch:  280 cost:  0.45179815006707963\n",
      "epoch:  290 cost:  0.4401355124427624\n",
      "last costs: 0.440136\n"
     ]
    }
   ],
   "source": [
    "# numarul de clase\n",
    "k = 10\n",
    "\n",
    "lmbda, alpha = 0.05, 0.65\n",
    "m, n = train_x_all_ext.shape\n",
    "np.random.seed(11)\n",
    "theta = np.random.randn(n, k)\n",
    "\n",
    "epochs = 300\n",
    "values = []\n",
    "accurracies = []\n",
    "for i in range(epochs):\n",
    "    theta -= alpha * deltas(train_x_all_ext, train_y_all, theta, lmbda)\n",
    "    if (i % 10 == 0):\n",
    "        values.append(cost(train_x_all_ext, train_y_all, theta, lmbda))\n",
    "        accurracies.append(calculate_accurracy(test_x_all_ext, test_y_all, theta))\n",
    "        print(\"epoch: \", i, \"cost: \", values[-1])\n",
    "        lmbda *= 0.9\n",
    "    \n",
    "print(\"last costs: %g\" % values[-1])"
   ]
  },
  {
   "cell_type": "code",
   "execution_count": 48,
   "metadata": {
    "ExecuteTime": {
     "end_time": "2021-04-03T16:53:20.646104Z",
     "start_time": "2021-04-03T16:53:19.918188Z"
    }
   },
   "outputs": [
    {
     "data": {
      "image/png": "[encoded data removed]",
      "text/plain": [
       "<Figure size 1440x720 with 2 Axes>"
      ]
     },
     "metadata": {
      "needs_background": "light"
     },
     "output_type": "display_data"
    }
   ],
   "source": [
    "fig, ax = plt.subplots(2, 1, figsize=(20, 10), sharex=True)\n",
    "ax[0].plot([x * 10 for x in range(len(values))], values, 'o-')\n",
    "ax[0].set_xlabel('epoch') ; ax[0].set_ylabel('cost')\n",
    "ax[0].grid()\n",
    "ax[1].plot([x * 10 for x in range(len(accurracies))], accurracies, 'o-')\n",
    "ax[1].set_xlabel('epoch') ; ax[1].set_ylabel('accurracy [%]')\n",
    "ax[1].grid()\n",
    "plt.show()"
   ]
  },
  {
   "cell_type": "code",
   "execution_count": 50,
   "metadata": {
    "ExecuteTime": {
     "end_time": "2021-04-03T16:54:27.603819Z",
     "start_time": "2021-04-03T16:54:27.571532Z"
    }
   },
   "outputs": [
    {
     "name": "stdout",
     "output_type": "stream",
     "text": [
      "Test accuracy: 90.82%\n"
     ]
    }
   ],
   "source": [
    "# Calculam acuratetea pentru setul de test\n",
    "# Aceasta presupune sa numaram cate predictii se potrivesc cu realitatea si sa exprimam acest lucru procentual\n",
    "pred = np.argmax(softmax(test_x_all_ext, theta), axis=1)\n",
    "actual = np.argmax(test_y_all, axis=1)\n",
    "equalities = np.sum(pred == actual)\n",
    "print(\"Test accuracy: %2.2f%%\" % ( 100.0 * equalities / pred.shape[0]))"
   ]
  },
  {
   "cell_type": "code",
   "execution_count": 53,
   "metadata": {
    "ExecuteTime": {
     "end_time": "2021-04-03T16:56:09.548759Z",
     "start_time": "2021-04-03T16:56:09.494695Z"
    }
   },
   "outputs": [
    {
     "name": "stdout",
     "output_type": "stream",
     "text": [
      "╭─────────┬─────────┬─────────┬─────────┬─────────┬─────────┬─────────┬─────────┬─────────┬─────────┬─────────┬─────────╮\n",
      "│  CnfMat │ pred: 0 │ pred: 1 │ pred: 2 │ pred: 3 │ pred: 4 │ pred: 5 │ pred: 6 │ pred: 7 │ pred: 8 │ pred: 9 │   all a │\n",
      "├─────────┼─────────┼─────────┼─────────┼─────────┼─────────┼─────────┼─────────┼─────────┼─────────┼─────────┼─────────┤\n",
      "│  act: 0 │     962 │       0 │       2 │       1 │       1 │       2 │       8 │       1 │       3 │       0 │     980 │\n",
      "│  act: 1 │       0 │    1104 │       2 │       4 │       1 │       2 │       4 │       2 │      16 │       0 │    1135 │\n",
      "│  act: 2 │      12 │      12 │     891 │      15 │      15 │       2 │      15 │      18 │      42 │      10 │    1032 │\n",
      "│  act: 3 │       6 │       2 │      18 │     904 │       1 │      32 │       3 │      15 │      19 │      10 │    1010 │\n",
      "│  act: 4 │       1 │       4 │       4 │       0 │     910 │       1 │      11 │       1 │       8 │      42 │     982 │\n",
      "│  act: 5 │      14 │       4 │       3 │      42 │      14 │     747 │      16 │      11 │      32 │       9 │     892 │\n",
      "│  act: 6 │      15 │       3 │       4 │       2 │      15 │      13 │     902 │       1 │       3 │       0 │     958 │\n",
      "│  act: 7 │       5 │      18 │      24 │       4 │      10 │       0 │       0 │     928 │       4 │      34 │    1027 │\n",
      "│  act: 8 │       7 │      10 │      11 │      27 │       8 │      24 │      14 │      15 │     844 │      14 │     974 │\n",
      "│  act: 9 │      10 │       8 │       4 │      12 │      45 │      11 │       1 │      22 │       7 │     889 │    1009 │\n",
      "│ all prd │    1032 │    1165 │     963 │    1011 │    1020 │     834 │     974 │    1014 │     978 │    1008 │    9999 │\n",
      "╰─────────┴─────────┴─────────┴─────────┴─────────┴─────────┴─────────┴─────────┴─────────┴─────────┴─────────┴─────────╯\n"
     ]
    }
   ],
   "source": [
    "# Calculam vectorii predictiilor precum si vectorul realitatii\n",
    "pred = np.argmax(softmax(test_x_all_ext, theta), axis=1)\n",
    "actual = np.argmax(test_y_all, axis=1)\n",
    "\n",
    "# Confusion matrix va avea la intersectia linie/coloana cate sample-uri din clasa data de numarul liniei\n",
    "# au fost prezise ca fiind facand parte din clasa data de numarul coloanei\n",
    "# k = nr de clase\n",
    "# pe linie - actual\n",
    "# pe coloana - predicted\n",
    "conf_matrix = np.zeros((k, k), dtype = int)\n",
    "for actual_value, pred_value in zip(actual, pred):\n",
    "    conf_matrix[actual_value, pred_value] += 1\n",
    "\n",
    "assert len(conf_matrix) == k\n",
    "assert (sum(len(row) for row in conf_matrix)) == k ** 2\n",
    "\n",
    "headers = ['CnfMat'] + [f'pred: {x}' for x in range(k)] + ['all a'] \n",
    "table = []\n",
    "for i in range(k):\n",
    "    table.append([f'act: {i}'] +  [f'{conf_matrix[i,j]}' for j in range(k)] + [conf_matrix[i].sum()])\n",
    "table.append( ['all prd'] + [f'{conf_matrix[:,col].sum()}' for col in range(k)] + [f'{conf_matrix.sum()}'] )\n",
    "\n",
    "tab.table(table, headers, width=7)"
   ]
  },
  {
   "cell_type": "code",
   "execution_count": null,
   "metadata": {},
   "outputs": [],
   "source": []
  }
 ],
 "metadata": {
  "kernelspec": {
   "display_name": "Python 3",
   "language": "python",
   "name": "python3"
  },
  "language_info": {
   "codemirror_mode": {
    "name": "ipython",
    "version": 3
   },
   "file_extension": ".py",
   "mimetype": "text/x-python",
   "name": "python",
   "nbconvert_exporter": "python",
   "pygments_lexer": "ipython3",
   "version": "3.8.3"
  },
  "toc": {
   "base_numbering": 1,
   "nav_menu": {},
   "number_sections": true,
   "sideBar": true,
   "skip_h1_title": false,
   "title_cell": "Table of Contents",
   "title_sidebar": "Contents",
   "toc_cell": false,
   "toc_position": {},
   "toc_section_display": true,
   "toc_window_display": true
  },
  "varInspector": {
   "cols": {
    "lenName": 16,
    "lenType": 16,
    "lenVar": 40
   },
   "kernels_config": {
    "python": {
     "delete_cmd_postfix": "",
     "delete_cmd_prefix": "del ",
     "library": "var_list.py",
     "varRefreshCmd": "print(var_dic_list())"
    },
    "r": {
     "delete_cmd_postfix": ") ",
     "delete_cmd_prefix": "rm(",
     "library": "var_list.r",
     "varRefreshCmd": "cat(var_dic_list()) "
    }
   },
   "types_to_exclude": [
    "module",
    "function",
    "builtin_function_or_method",
    "instance",
    "_Feature"
   ],
   "window_display": false
  }
 },
 "nbformat": 4,
 "nbformat_minor": 2
}
